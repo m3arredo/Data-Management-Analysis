{
 "cells": [
  {
   "cell_type": "code",
   "execution_count": 126,
   "id": "8fadc0b4",
   "metadata": {},
   "outputs": [],
   "source": [
    "import json\n",
    "import gzip\n",
    "import math\n",
    "from collections import defaultdict\n",
    "import numpy as np\n",
    "from sklearn import linear_model\n",
    "import random\n",
    "import statistics\n",
    "from math import log2\n",
    "from sklearn.metrics import confusion_matrix\n",
    "from numpy.linalg import norm\n",
    "from sklearn.metrics import precision_score\n",
    "from sklearn.metrics import accuracy_score"
   ]
  },
  {
   "cell_type": "code",
   "execution_count": 2,
   "id": "bcdcf1eb",
   "metadata": {},
   "outputs": [],
   "source": [
    "def assertFloat(x):\n",
    "    assert type(float(x)) == float\n",
    "\n",
    "def assertFloatList(items, N):\n",
    "    assert len(items) == N\n",
    "    assert [type(float(x)) for x in items] == [float]*N"
   ]
  },
  {
   "cell_type": "code",
   "execution_count": 3,
   "id": "42a8d119",
   "metadata": {},
   "outputs": [],
   "source": [
    "answers = {}"
   ]
  },
  {
   "cell_type": "code",
   "execution_count": 4,
   "id": "83a6d4b5",
   "metadata": {},
   "outputs": [],
   "source": [
    "z = gzip.open(\"train.json.gz\")"
   ]
  },
  {
   "cell_type": "code",
   "execution_count": 5,
   "id": "0d2ef14c",
   "metadata": {},
   "outputs": [],
   "source": [
    "dataset = []\n",
    "for l in z:\n",
    "    d = eval(l)\n",
    "    dataset.append(d)"
   ]
  },
  {
   "cell_type": "code",
   "execution_count": 6,
   "id": "46a06fd5",
   "metadata": {},
   "outputs": [],
   "source": [
    "z.close()"
   ]
  },
  {
   "cell_type": "code",
   "execution_count": 7,
   "id": "93e80cfe",
   "metadata": {},
   "outputs": [],
   "source": [
    "### Question 1"
   ]
  },
  {
   "cell_type": "code",
   "execution_count": 8,
   "id": "c37e48b0",
   "metadata": {},
   "outputs": [],
   "source": [
    "def MSE(y, ypred):\n",
    "    diff = [ (x-y)**2 for x,y in zip(y,ypred)]\n",
    "    return sum(diff)/len(diff)"
   ]
  },
  {
   "cell_type": "code",
   "execution_count": 9,
   "id": "85a5714b",
   "metadata": {},
   "outputs": [],
   "source": [
    "def MAE(y, ypred):\n",
    "    return np.mean(np.abs(ypred - y))"
   ]
  },
  {
   "cell_type": "code",
   "execution_count": 10,
   "id": "9313a06c",
   "metadata": {},
   "outputs": [],
   "source": [
    "reviewsPerUser = defaultdict(list)\n",
    "reviewsPerItem = defaultdict(list)\n",
    "\n",
    "for d in dataset:\n",
    "    u,i = d['userID'],d['gameID']\n",
    "    reviewsPerUser[u].append(d)\n",
    "    reviewsPerItem[i].append(d)\n",
    "    \n",
    "for u in reviewsPerUser:\n",
    "    reviewsPerUser[u].sort(key=lambda x: x['date'])\n",
    "    \n",
    "for i in reviewsPerItem:\n",
    "    reviewsPerItem[i].sort(key=lambda x: x['date'])"
   ]
  },
  {
   "cell_type": "code",
   "execution_count": 11,
   "id": "e4a95755",
   "metadata": {},
   "outputs": [
    {
     "data": {
      "text/plain": [
       "{'userID': 'u70666506',\n",
       " 'early_access': False,\n",
       " 'hours': 63.5,\n",
       " 'hours_transformed': 6.011227255423254,\n",
       " 'found_funny': 1,\n",
       " 'text': 'If you want to sit in queue for 10-20min and have 140 ping then this game is perfect for you :)',\n",
       " 'gameID': 'g49368897',\n",
       " 'user_id': '76561198030408772',\n",
       " 'date': '2017-05-20'}"
      ]
     },
     "execution_count": 11,
     "metadata": {},
     "output_type": "execute_result"
    }
   ],
   "source": [
    "dataset[1]"
   ]
  },
  {
   "cell_type": "code",
   "execution_count": 12,
   "id": "d90c72f8",
   "metadata": {},
   "outputs": [],
   "source": [
    "def feat1(d):\n",
    "    hours = [d['hours']]\n",
    "    feat = [1] + hours\n",
    "    return feat "
   ]
  },
  {
   "cell_type": "code",
   "execution_count": 13,
   "id": "a4e6ec8d",
   "metadata": {},
   "outputs": [],
   "source": [
    "X = [feat1(d) for d in dataset]\n",
    "y = [len(d['text']) for d in dataset]"
   ]
  },
  {
   "cell_type": "code",
   "execution_count": 14,
   "id": "01a4668f",
   "metadata": {},
   "outputs": [
    {
     "name": "stderr",
     "output_type": "stream",
     "text": [
      "/var/folders/rp/mtyztnnd6p35kq9b5_xbdn7c0000gn/T/ipykernel_76055/3462416257.py:1: FutureWarning: `rcond` parameter will change to the default of machine precision times ``max(M, N)`` where M and N are the input matrix dimensions.\n",
      "To use the future default and silence this warning we advise to pass `rcond=None`, to keep using the old, explicitly pass `rcond=-1`.\n",
      "  theta_1,residuals_1,rank_1,s_1 = np.linalg.lstsq(X,y)\n"
     ]
    }
   ],
   "source": [
    "theta_1,residuals_1,rank_1,s_1 = np.linalg.lstsq(X,y)"
   ]
  },
  {
   "cell_type": "code",
   "execution_count": 15,
   "id": "f88c5414",
   "metadata": {},
   "outputs": [],
   "source": [
    "theta_1 = theta_1[1]"
   ]
  },
  {
   "cell_type": "code",
   "execution_count": 16,
   "id": "f99ebc12",
   "metadata": {},
   "outputs": [
    {
     "name": "stdout",
     "output_type": "stream",
     "text": [
      "570936.2842458996\n"
     ]
    }
   ],
   "source": [
    "mse_q1 = residuals_1[0]/ len(y)\n",
    "print(mse_q1)"
   ]
  },
  {
   "cell_type": "code",
   "execution_count": 17,
   "id": "f32ed5c0",
   "metadata": {},
   "outputs": [],
   "source": [
    "answers['Q1'] = [theta_1, mse_q1]"
   ]
  },
  {
   "cell_type": "code",
   "execution_count": 18,
   "id": "7c0b7568",
   "metadata": {},
   "outputs": [],
   "source": [
    "assertFloatList(answers['Q1'], 2)"
   ]
  },
  {
   "cell_type": "code",
   "execution_count": 19,
   "id": "6e26bb75",
   "metadata": {},
   "outputs": [],
   "source": [
    "### Question 2"
   ]
  },
  {
   "cell_type": "code",
   "execution_count": null,
   "id": "99a2aba4",
   "metadata": {},
   "outputs": [],
   "source": []
  },
  {
   "cell_type": "code",
   "execution_count": 20,
   "id": "7246aab0",
   "metadata": {},
   "outputs": [],
   "source": [
    "def feat2(d):\n",
    "    hours = [d['hours']]\n",
    "    hoursmedian = [ 1 if i > np.median(hours) else 0 for i in hours ]\n",
    "    feat = hours + [log2(i+1) for i in hours] + [i**(1/2) for i in hours] + hoursmedian\n",
    "    return [1]+feat"
   ]
  },
  {
   "cell_type": "code",
   "execution_count": 21,
   "id": "d8786922",
   "metadata": {},
   "outputs": [],
   "source": [
    "X = [feat2(d) for d in dataset]"
   ]
  },
  {
   "cell_type": "code",
   "execution_count": 22,
   "id": "1197d1b8",
   "metadata": {},
   "outputs": [],
   "source": [
    "mod = linear_model.LinearRegression(fit_intercept=False)\n",
    "mod.fit(X,y)\n",
    "predictions = mod.predict(X)"
   ]
  },
  {
   "cell_type": "code",
   "execution_count": 23,
   "id": "2402ef0b",
   "metadata": {},
   "outputs": [],
   "source": [
    "mse_q2 = MSE(y, predictions)"
   ]
  },
  {
   "cell_type": "code",
   "execution_count": 24,
   "id": "1a5d7a44",
   "metadata": {},
   "outputs": [],
   "source": [
    "answers['Q2'] = mse_q2"
   ]
  },
  {
   "cell_type": "code",
   "execution_count": 25,
   "id": "fad4744e",
   "metadata": {},
   "outputs": [],
   "source": [
    "assertFloat(answers['Q2'])"
   ]
  },
  {
   "cell_type": "code",
   "execution_count": 26,
   "id": "a690f9b9",
   "metadata": {},
   "outputs": [],
   "source": [
    "### Question 3"
   ]
  },
  {
   "cell_type": "code",
   "execution_count": 27,
   "id": "8e524edb",
   "metadata": {},
   "outputs": [],
   "source": [
    "def feat3(d):\n",
    "    hours = [d['hours']]\n",
    "    h1    = [ 1 if i > 1 else 0 for i in hours ]\n",
    "    h5    = [ 1 if i > 5 else 0 for i in hours ]\n",
    "    h10   = [ 1 if i > 10 else 0 for i in hours ]\n",
    "    h100  = [ 1 if i > 100 else 0 for i in hours ]\n",
    "    h1000 = [ 1 if i > 1000 else 0 for i in hours ]\n",
    "    \n",
    "    \n",
    "    feat = hours + h1 + h5 + h10 + h100 + h1000\n",
    "    return [1] + feat "
   ]
  },
  {
   "cell_type": "code",
   "execution_count": 28,
   "id": "da7b030d",
   "metadata": {},
   "outputs": [],
   "source": [
    "X = [feat3(d) for d in dataset]"
   ]
  },
  {
   "cell_type": "code",
   "execution_count": 29,
   "id": "44943983",
   "metadata": {},
   "outputs": [],
   "source": [
    "mod = linear_model.LinearRegression(fit_intercept=False)\n",
    "mod.fit(X,y)\n",
    "predictions = mod.predict(X)"
   ]
  },
  {
   "cell_type": "code",
   "execution_count": 30,
   "id": "4439c4e6",
   "metadata": {},
   "outputs": [],
   "source": [
    "mse_q3 = MSE(y, predictions)"
   ]
  },
  {
   "cell_type": "code",
   "execution_count": 31,
   "id": "20b470b3",
   "metadata": {},
   "outputs": [],
   "source": [
    "answers['Q3'] = mse_q3"
   ]
  },
  {
   "cell_type": "code",
   "execution_count": 32,
   "id": "3846bd87",
   "metadata": {},
   "outputs": [],
   "source": [
    "assertFloat(answers['Q3'])"
   ]
  },
  {
   "cell_type": "code",
   "execution_count": 33,
   "id": "69de975e",
   "metadata": {},
   "outputs": [],
   "source": [
    "### Question 4"
   ]
  },
  {
   "cell_type": "code",
   "execution_count": 34,
   "id": "67b6c515",
   "metadata": {},
   "outputs": [],
   "source": [
    "def feat4(d):\n",
    "    length = [len(d['text'])]\n",
    "    return [1]+ length"
   ]
  },
  {
   "cell_type": "code",
   "execution_count": 35,
   "id": "801b7a5c",
   "metadata": {},
   "outputs": [],
   "source": [
    "X = [feat4(d) for d in dataset]\n",
    "y = [d['hours'] for d in dataset]"
   ]
  },
  {
   "cell_type": "code",
   "execution_count": 36,
   "id": "d57f7fc8",
   "metadata": {},
   "outputs": [],
   "source": [
    "mod = linear_model.LinearRegression(fit_intercept=False)\n",
    "mod.fit(X,y)\n",
    "predictions = mod.predict(X)"
   ]
  },
  {
   "cell_type": "code",
   "execution_count": 37,
   "id": "c92c3a8d",
   "metadata": {},
   "outputs": [],
   "source": [
    "mse = MSE(y,predictions)\n",
    "mae = MAE(y, predictions)"
   ]
  },
  {
   "cell_type": "code",
   "execution_count": 38,
   "id": "eff1f9a8",
   "metadata": {},
   "outputs": [
    {
     "name": "stdout",
     "output_type": "stream",
     "text": [
      "75735.70018272995 90.35613031984947\n"
     ]
    }
   ],
   "source": [
    "print(mse, mae)"
   ]
  },
  {
   "cell_type": "code",
   "execution_count": 39,
   "id": "ab2a5ddc",
   "metadata": {},
   "outputs": [],
   "source": [
    "answers['Q4'] = [mse, mae, \"mae is more suitable since mse gets more affected with outliers and mae is more robust\"]"
   ]
  },
  {
   "cell_type": "code",
   "execution_count": 40,
   "id": "44b4eba2",
   "metadata": {},
   "outputs": [],
   "source": [
    "assertFloatList(answers['Q4'][:2], 2)"
   ]
  },
  {
   "cell_type": "code",
   "execution_count": 41,
   "id": "3d0ee44c",
   "metadata": {},
   "outputs": [],
   "source": [
    "### Question 5"
   ]
  },
  {
   "cell_type": "code",
   "execution_count": 42,
   "id": "fadf8707",
   "metadata": {},
   "outputs": [],
   "source": [
    "y_trans = [math.log2(d['hours'] + 1) for d in dataset]"
   ]
  },
  {
   "cell_type": "code",
   "execution_count": 43,
   "id": "a8e690b6",
   "metadata": {},
   "outputs": [],
   "source": [
    "mod = linear_model.LinearRegression(fit_intercept=False)\n",
    "mod.fit(X,y_trans)\n",
    "predictions_trans = mod.predict(X)"
   ]
  },
  {
   "cell_type": "code",
   "execution_count": 44,
   "id": "6fcc3141",
   "metadata": {},
   "outputs": [],
   "source": [
    "mse_trans = MSE(y_trans, predictions_trans)# MSE using the transformed variable"
   ]
  },
  {
   "cell_type": "code",
   "execution_count": 45,
   "id": "78d37258",
   "metadata": {},
   "outputs": [
    {
     "name": "stdout",
     "output_type": "stream",
     "text": [
      "5.255254235328321\n"
     ]
    }
   ],
   "source": [
    "print(mse_trans)"
   ]
  },
  {
   "cell_type": "code",
   "execution_count": 46,
   "id": "f83a297a",
   "metadata": {},
   "outputs": [],
   "source": [
    "y = [(2**(y)- 1 ) for y in y_trans]"
   ]
  },
  {
   "cell_type": "code",
   "execution_count": 47,
   "id": "62185cfa",
   "metadata": {},
   "outputs": [],
   "source": [
    "mod.fit(X,y)\n",
    "predictions_untrans = mod.predict(X) # Undoing the transformation"
   ]
  },
  {
   "cell_type": "code",
   "execution_count": 48,
   "id": "3b0db71f",
   "metadata": {},
   "outputs": [
    {
     "name": "stdout",
     "output_type": "stream",
     "text": [
      "75735.70018272997\n"
     ]
    }
   ],
   "source": [
    "mse_untrans = MSE(predictions_untrans, y)\n",
    "print(mse_untrans)"
   ]
  },
  {
   "cell_type": "code",
   "execution_count": 49,
   "id": "9ec7c9c7",
   "metadata": {},
   "outputs": [],
   "source": [
    "answers['Q5'] = [mse_trans, mse_untrans]"
   ]
  },
  {
   "cell_type": "code",
   "execution_count": 50,
   "id": "55ee62bb",
   "metadata": {},
   "outputs": [],
   "source": [
    "assertFloatList(answers['Q5'], 2)"
   ]
  },
  {
   "cell_type": "code",
   "execution_count": 51,
   "id": "0e41b3db",
   "metadata": {},
   "outputs": [],
   "source": [
    "### Question 6"
   ]
  },
  {
   "cell_type": "code",
   "execution_count": 52,
   "id": "b538f945",
   "metadata": {},
   "outputs": [],
   "source": [
    "def feat6(d):\n",
    "    hours = int(d['hours'])\n",
    "    feat = [0] * 100\n",
    "    if hours < 1:\n",
    "        feat[0] = 1\n",
    "    elif hours >= 99:\n",
    "        feat[99] = 1\n",
    "    else:\n",
    "        feat[hours] = 1\n",
    "    return [1] + feat   "
   ]
  },
  {
   "cell_type": "code",
   "execution_count": 53,
   "id": "b530b615",
   "metadata": {},
   "outputs": [],
   "source": [
    "X = [feat6(d) for d in dataset]\n",
    "y = [len(d['text']) for d in dataset]"
   ]
  },
  {
   "cell_type": "code",
   "execution_count": 54,
   "id": "f3a35fff",
   "metadata": {},
   "outputs": [],
   "source": [
    "Xtrain, Xvalid, Xtest = X[:len(X)//2], X[len(X)//2:(3*len(X))//4], X[(3*len(X))//4:]\n",
    "ytrain, yvalid, ytest = y[:len(X)//2], y[len(X)//2:(3*len(X))//4], y[(3*len(X))//4:]"
   ]
  },
  {
   "cell_type": "code",
   "execution_count": 55,
   "id": "c7f5d114",
   "metadata": {},
   "outputs": [
    {
     "name": "stdout",
     "output_type": "stream",
     "text": [
      "581950.237335945\n",
      "581883.0733828805\n",
      "581546.2387398417\n",
      "581432.8208480775\n",
      "583607.563450728\n"
     ]
    }
   ],
   "source": [
    "models = {}\n",
    "mses = {}\n",
    "bestC = None\n",
    "\n",
    "\n",
    "for c in [1, 10, 100, 1000, 10000]:\n",
    "    mod = linear_model.Ridge(alpha=c)\n",
    "    mod.fit(Xtrain,ytrain)\n",
    "    predictions = mod.predict(Xvalid)\n",
    "    models[c] = mod\n",
    "    mse = MSE(predictions, yvalid)\n",
    "    mses[c]= mse\n",
    "    print(mse)\n",
    "    "
   ]
  },
  {
   "cell_type": "code",
   "execution_count": 56,
   "id": "d3d53653",
   "metadata": {},
   "outputs": [
    {
     "name": "stdout",
     "output_type": "stream",
     "text": [
      "1000\n"
     ]
    }
   ],
   "source": [
    "bestC = min(mses, key=mses.get)\n",
    "print(bestC)"
   ]
  },
  {
   "cell_type": "code",
   "execution_count": 57,
   "id": "3743d2e8",
   "metadata": {},
   "outputs": [],
   "source": [
    "predictions = models[bestC].predict(Xvalid)\n",
    "predictions_test = models[bestC].predict(Xtest)"
   ]
  },
  {
   "cell_type": "code",
   "execution_count": 58,
   "id": "c3fb98df",
   "metadata": {},
   "outputs": [
    {
     "name": "stdout",
     "output_type": "stream",
     "text": [
      "581432.8208480775\n"
     ]
    }
   ],
   "source": [
    "mse_valid = MSE(yvalid, predictions)\n",
    "print(mse_valid)"
   ]
  },
  {
   "cell_type": "code",
   "execution_count": 59,
   "id": "db93b379",
   "metadata": {},
   "outputs": [
    {
     "name": "stdout",
     "output_type": "stream",
     "text": [
      "560786.7645482322\n"
     ]
    }
   ],
   "source": [
    "mse_test = MSE(ytest , predictions_test)\n",
    "print(mse_test)"
   ]
  },
  {
   "cell_type": "code",
   "execution_count": 60,
   "id": "f49bfb80",
   "metadata": {},
   "outputs": [],
   "source": [
    "answers['Q6'] = [bestC, mse_valid, mse_test]"
   ]
  },
  {
   "cell_type": "code",
   "execution_count": 61,
   "id": "8baaf741",
   "metadata": {},
   "outputs": [],
   "source": [
    "assertFloatList(answers['Q6'], 3)"
   ]
  },
  {
   "cell_type": "code",
   "execution_count": 62,
   "id": "f0aa5b79",
   "metadata": {},
   "outputs": [],
   "source": [
    "### Question 7"
   ]
  },
  {
   "cell_type": "code",
   "execution_count": 63,
   "id": "504f6f12",
   "metadata": {},
   "outputs": [],
   "source": [
    "times = [d['hours_transformed'] for d in dataset]\n",
    "median = statistics.median(times)"
   ]
  },
  {
   "cell_type": "code",
   "execution_count": 64,
   "id": "127534da",
   "metadata": {},
   "outputs": [],
   "source": [
    "notPlayed = [ 1 if d['hours'] < 1 else 0 for d in dataset ]\n",
    "nNotPlayed = sum(notPlayed)"
   ]
  },
  {
   "cell_type": "code",
   "execution_count": 65,
   "id": "7d2bed2d",
   "metadata": {},
   "outputs": [],
   "source": [
    "answers['Q7'] = [median, nNotPlayed]"
   ]
  },
  {
   "cell_type": "code",
   "execution_count": 66,
   "id": "b1bdbec6",
   "metadata": {},
   "outputs": [],
   "source": [
    "assertFloatList(answers['Q7'], 2)"
   ]
  },
  {
   "cell_type": "code",
   "execution_count": 67,
   "id": "67e8ecc1",
   "metadata": {},
   "outputs": [],
   "source": [
    "### Question 8"
   ]
  },
  {
   "cell_type": "code",
   "execution_count": 68,
   "id": "30b18d0c",
   "metadata": {},
   "outputs": [],
   "source": [
    "def feat8(d):\n",
    "    length = [len(d['text'])]\n",
    "    return [1] + length"
   ]
  },
  {
   "cell_type": "code",
   "execution_count": 69,
   "id": "04607068",
   "metadata": {},
   "outputs": [],
   "source": [
    "X = [feat8(d) for d in dataset]\n",
    "y = [d['hours_transformed'] > median for d in dataset]"
   ]
  },
  {
   "cell_type": "code",
   "execution_count": 70,
   "id": "8bad8f5c",
   "metadata": {},
   "outputs": [],
   "source": [
    "mod = linear_model.LogisticRegression(class_weight='balanced')\n",
    "mod.fit(X,y)\n",
    "predictions = mod.predict(X) # Binary vector of predictions"
   ]
  },
  {
   "cell_type": "code",
   "execution_count": 71,
   "id": "44a577ea",
   "metadata": {},
   "outputs": [],
   "source": [
    "def rates(predictions, y):\n",
    "    TP = [a and b for (a,b) in zip(predictions,y)]\n",
    "    TN = [not a and not b for (a,b) in zip(predictions,y)]\n",
    "    FP = [a and not b for (a,b) in zip(predictions,y)]\n",
    "    FN = [not a and b for (a,b) in zip(predictions,y)]\n",
    "\n",
    "    TP = sum(TP)\n",
    "    TN = sum(TN)\n",
    "    FP = sum(FP)\n",
    "    FN = sum(FN)\n",
    "    \n",
    "    return TP, TN, FP, FN"
   ]
  },
  {
   "cell_type": "code",
   "execution_count": 72,
   "id": "6b96e14a",
   "metadata": {},
   "outputs": [],
   "source": [
    "TP, TN, FP, FN = rates(predictions, y)"
   ]
  },
  {
   "cell_type": "code",
   "execution_count": 73,
   "id": "1945455a",
   "metadata": {},
   "outputs": [
    {
     "name": "stdout",
     "output_type": "stream",
     "text": [
      "0.472506390561468\n"
     ]
    }
   ],
   "source": [
    "BER = 0.5 * (FP / (TN + FP) + FN / (FN + TP))\n",
    "print(BER)"
   ]
  },
  {
   "cell_type": "code",
   "execution_count": 74,
   "id": "dc013647",
   "metadata": {},
   "outputs": [],
   "source": [
    "BER8 = BER"
   ]
  },
  {
   "cell_type": "code",
   "execution_count": 75,
   "id": "2f3004dc",
   "metadata": {},
   "outputs": [],
   "source": [
    "answers['Q8'] = [TP, TN, FP, FN, BER]"
   ]
  },
  {
   "cell_type": "code",
   "execution_count": 76,
   "id": "f3623ff7",
   "metadata": {},
   "outputs": [],
   "source": [
    "assertFloatList(answers['Q8'], 5)"
   ]
  },
  {
   "cell_type": "code",
   "execution_count": 77,
   "id": "0f0ba96b",
   "metadata": {},
   "outputs": [],
   "source": [
    "### Question 9"
   ]
  },
  {
   "cell_type": "code",
   "execution_count": 78,
   "id": "19d92653",
   "metadata": {},
   "outputs": [],
   "source": [
    "prob = mod.predict_proba(X)\n",
    "sortedprob = sorted([(p[1], y_val) for p, y_val in zip(prob, y)], key=lambda x: x[0], reverse=True)"
   ]
  },
  {
   "cell_type": "code",
   "execution_count": 79,
   "id": "e16a39df",
   "metadata": {},
   "outputs": [],
   "source": [
    "#precision = \n",
    "#recall = "
   ]
  },
  {
   "cell_type": "code",
   "execution_count": 80,
   "id": "177fa669",
   "metadata": {},
   "outputs": [
    {
     "data": {
      "text/plain": [
       "[0.5454545454545454, 0.5454545454545454, 0.67, 0.685]"
      ]
     },
     "execution_count": 80,
     "metadata": {},
     "output_type": "execute_result"
    }
   ],
   "source": [
    "precs = []\n",
    "recs = []\n",
    "\n",
    "for i in [5, 10, 100, 1000]:\n",
    "    threshold = sortedprob[i - 1][0]\n",
    "    last_tied = i\n",
    "    while last_tied < len(sortedprob) and sortedprob[last_tied][0] == threshold:\n",
    "        last_tied += 1\n",
    "    \n",
    "    k = last_tied\n",
    "    top_pred = [1 if prob >= threshold else 0 for prob, _ in sortedprob[:k]]\n",
    "    TP = sum(y for _,y in sortedprob[:k] if y == 1)\n",
    "        \n",
    "        \n",
    "    if TP + (k - TP) ==0:\n",
    "        precision = 0\n",
    "    else :\n",
    "        precision = (TP) / (TP + (k - TP))\n",
    "    precs.append(precision)\n",
    "precs"
   ]
  },
  {
   "cell_type": "code",
   "execution_count": 81,
   "id": "8a856ebb",
   "metadata": {},
   "outputs": [],
   "source": [
    "answers['Q9'] = precs"
   ]
  },
  {
   "cell_type": "code",
   "execution_count": 82,
   "id": "6d85ba8a",
   "metadata": {},
   "outputs": [],
   "source": [
    "assertFloatList(answers['Q9'], 4)"
   ]
  },
  {
   "cell_type": "code",
   "execution_count": 83,
   "id": "26a3af12",
   "metadata": {},
   "outputs": [],
   "source": [
    "### Question 10"
   ]
  },
  {
   "cell_type": "code",
   "execution_count": 84,
   "id": "f4168e7d",
   "metadata": {},
   "outputs": [],
   "source": [
    "y_trans = [d['hours_transformed'] for d in dataset]"
   ]
  },
  {
   "cell_type": "code",
   "execution_count": 85,
   "id": "4e5c9662",
   "metadata": {},
   "outputs": [],
   "source": [
    "mod = linear_model.LinearRegression(fit_intercept=False)\n",
    "mod.fit(X,y_trans)\n",
    "predictions_trans = mod.predict(X)"
   ]
  },
  {
   "cell_type": "code",
   "execution_count": 86,
   "id": "7d18b32f",
   "metadata": {},
   "outputs": [],
   "source": [
    "threshold_min = min(y_trans)  \n",
    "threshold_max = max(y_trans)  \n",
    "\n",
    "num_thresholds = 100"
   ]
  },
  {
   "cell_type": "code",
   "execution_count": 87,
   "id": "75c85f59",
   "metadata": {},
   "outputs": [],
   "source": [
    "best_threshold = None\n",
    "min_BER = BER8  # Initialize with a large value\n",
    "\n",
    "for threshold in np.linspace(threshold_min, threshold_max, num_thresholds):\n",
    "    predictions_thresh = [y >= threshold for y in y_trans]\n",
    "    TP, TN, FP, FN = rates(predictions_thresh, y)\n",
    "    BER = 0.5 * (FP / (TN + FP) + FN / (FN + TP))\n",
    "\n",
    "\n",
    "    if BER < min_BER:\n",
    "        min_BER = BER\n",
    "        best_threshold = threshold"
   ]
  },
  {
   "cell_type": "code",
   "execution_count": 88,
   "id": "fd6ad7c2",
   "metadata": {},
   "outputs": [
    {
     "name": "stdout",
     "output_type": "stream",
     "text": [
      "3.538825786381682 0.011556284554151086\n"
     ]
    }
   ],
   "source": [
    "print(best_threshold, min_BER)"
   ]
  },
  {
   "cell_type": "code",
   "execution_count": 89,
   "id": "3f466026",
   "metadata": {},
   "outputs": [],
   "source": [
    "predictions_thresh =[d['hours_transformed'] > best_threshold for d in dataset] # Using a fixed threshold to make predictions"
   ]
  },
  {
   "cell_type": "code",
   "execution_count": 90,
   "id": "7f3d58fb",
   "metadata": {},
   "outputs": [],
   "source": [
    "TP, TN, FP, FN = rates(predictions_thresh, y)"
   ]
  },
  {
   "cell_type": "code",
   "execution_count": 91,
   "id": "4fed01b8",
   "metadata": {},
   "outputs": [
    {
     "name": "stdout",
     "output_type": "stream",
     "text": [
      "0.011556284554151086\n"
     ]
    }
   ],
   "source": [
    "BER = 0.5 * (FP / (TN + FP) + FN / (FN + TP))\n",
    "print(BER)"
   ]
  },
  {
   "cell_type": "code",
   "execution_count": 93,
   "id": "5ebaee35",
   "metadata": {},
   "outputs": [],
   "source": [
    "your_threshold = best_threshold"
   ]
  },
  {
   "cell_type": "code",
   "execution_count": 94,
   "id": "7846fa89",
   "metadata": {},
   "outputs": [],
   "source": [
    "answers['Q10'] = [your_threshold, BER]"
   ]
  },
  {
   "cell_type": "code",
   "execution_count": 95,
   "id": "9c718e55",
   "metadata": {},
   "outputs": [],
   "source": [
    "assertFloatList(answers['Q10'], 2)"
   ]
  },
  {
   "cell_type": "code",
   "execution_count": 96,
   "id": "0795d286",
   "metadata": {},
   "outputs": [],
   "source": [
    "### Question 11"
   ]
  },
  {
   "cell_type": "code",
   "execution_count": 97,
   "id": "3b66ab1e",
   "metadata": {},
   "outputs": [],
   "source": [
    "dataTrain = dataset[:int(len(dataset)*0.9)]\n",
    "dataTest = dataset[int(len(dataset)*0.9):]"
   ]
  },
  {
   "cell_type": "code",
   "execution_count": 98,
   "id": "7a37e800",
   "metadata": {},
   "outputs": [
    {
     "data": {
      "text/plain": [
       "{'hours': 0.3,\n",
       " 'gameID': 'g35322304',\n",
       " 'hours_transformed': 0.37851162325372983,\n",
       " 'early_access': False,\n",
       " 'date': '2015-04-08',\n",
       " 'text': '+1',\n",
       " 'userID': 'u55351001'}"
      ]
     },
     "execution_count": 98,
     "metadata": {},
     "output_type": "execute_result"
    }
   ],
   "source": [
    "dataTrain[0]"
   ]
  },
  {
   "cell_type": "code",
   "execution_count": 99,
   "id": "fb03b18b",
   "metadata": {},
   "outputs": [],
   "source": [
    "userMedian = defaultdict(list)\n",
    "itemMedian = defaultdict(list)\n",
    "\n",
    "# Compute medians on training data\n",
    "for d in dataTrain : \n",
    "    itemMedian[d['gameID']].append(d['hours'])\n",
    "    userMedian[d['userID']].append(d['hours'])\n",
    "    \n",
    "for i in itemMedian : \n",
    "    itemMedian[i] = np.median(itemMedian[i])\n",
    "    \n",
    "for i in userMedian :\n",
    "    userMedian[i] = np.median(userMedian[i])"
   ]
  },
  {
   "cell_type": "code",
   "execution_count": 100,
   "id": "c359fc4c",
   "metadata": {},
   "outputs": [
    {
     "data": {
      "text/plain": [
       "0.5"
      ]
     },
     "execution_count": 100,
     "metadata": {},
     "output_type": "execute_result"
    }
   ],
   "source": [
    "itemMedian['g35322304']"
   ]
  },
  {
   "cell_type": "code",
   "execution_count": 101,
   "id": "45033c34",
   "metadata": {},
   "outputs": [
    {
     "data": {
      "text/plain": [
       "3.9"
      ]
     },
     "execution_count": 101,
     "metadata": {},
     "output_type": "execute_result"
    }
   ],
   "source": [
    "userMedian['u55351001']"
   ]
  },
  {
   "cell_type": "code",
   "execution_count": 102,
   "id": "416c32c6",
   "metadata": {},
   "outputs": [],
   "source": [
    "answers['Q11'] = [itemMedian['g35322304'], userMedian['u55351001']]"
   ]
  },
  {
   "cell_type": "code",
   "execution_count": 103,
   "id": "841df3e0",
   "metadata": {},
   "outputs": [],
   "source": [
    "assertFloatList(answers['Q11'], 2)"
   ]
  },
  {
   "cell_type": "code",
   "execution_count": 104,
   "id": "19378bc4",
   "metadata": {},
   "outputs": [],
   "source": [
    "### Question 12"
   ]
  },
  {
   "cell_type": "code",
   "execution_count": 105,
   "id": "aa157e76",
   "metadata": {},
   "outputs": [],
   "source": [
    "globalMedian = [d['hours'] for d in dataset]\n",
    "globalMedian = np.median(globalMedian)"
   ]
  },
  {
   "cell_type": "code",
   "execution_count": 106,
   "id": "db5612a9",
   "metadata": {},
   "outputs": [],
   "source": [
    "def f12(u,i):\n",
    "    if itemMedian[i] > globalMedian:\n",
    "        r = 1\n",
    "    elif itemMedian[i] == None and userMedian[i] > globalMedian:\n",
    "        r = 1\n",
    "    else:\n",
    "        r = 0\n",
    "    return [r]"
   ]
  },
  {
   "cell_type": "code",
   "execution_count": 107,
   "id": "91c6f925",
   "metadata": {},
   "outputs": [
    {
     "name": "stdout",
     "output_type": "stream",
     "text": [
      "[[0], [1], [0], [1], [0]]\n"
     ]
    }
   ],
   "source": [
    "preds = [f12(d['userID'], d['gameID']) for d in dataTest]\n",
    "print(preds[:5])"
   ]
  },
  {
   "cell_type": "code",
   "execution_count": 108,
   "id": "4b2a0191",
   "metadata": {},
   "outputs": [
    {
     "name": "stdout",
     "output_type": "stream",
     "text": [
      "[0, 0, 1, 0, 0]\n"
     ]
    }
   ],
   "source": [
    "y = [d['hours'] for d in dataTest]\n",
    "y = [ 1 if i > globalMedian else 0 for i in y ]\n",
    "print(y[:5])"
   ]
  },
  {
   "cell_type": "code",
   "execution_count": 127,
   "id": "d98b7500",
   "metadata": {},
   "outputs": [],
   "source": [
    "#TP, TN, FP, FN = rates(preds, y)\n",
    "accuracy = accuracy_score(preds,y)"
   ]
  },
  {
   "cell_type": "code",
   "execution_count": 128,
   "id": "35b97733",
   "metadata": {},
   "outputs": [
    {
     "name": "stdout",
     "output_type": "stream",
     "text": [
      "0.7410857142857142\n"
     ]
    }
   ],
   "source": [
    "print(accuracy)"
   ]
  },
  {
   "cell_type": "code",
   "execution_count": 129,
   "id": "fc9a4ae3",
   "metadata": {},
   "outputs": [],
   "source": [
    "answers['Q12'] = accuracy"
   ]
  },
  {
   "cell_type": "code",
   "execution_count": 130,
   "id": "4f139511",
   "metadata": {},
   "outputs": [],
   "source": [
    "assertFloat(answers['Q12'])"
   ]
  },
  {
   "cell_type": "code",
   "execution_count": 113,
   "id": "4b356b97",
   "metadata": {},
   "outputs": [],
   "source": [
    "### Question 13"
   ]
  },
  {
   "cell_type": "code",
   "execution_count": 114,
   "id": "483a29b8",
   "metadata": {},
   "outputs": [],
   "source": [
    "usersPerItem = defaultdict(set) # Maps an item to the users who rated it\n",
    "itemsPerUser = defaultdict(set) # Maps a user to the items that they rated\n",
    "itemNames = {}\n",
    "\n",
    "for d in dataset:\n",
    "    user,item = d['userID'], d['gameID']\n",
    "    usersPerItem[item].add(user)\n",
    "    itemsPerUser[user].add(item)"
   ]
  },
  {
   "cell_type": "code",
   "execution_count": 115,
   "id": "225d6855",
   "metadata": {},
   "outputs": [],
   "source": [
    "def Jaccard(s1, s2):\n",
    "    numer = len(s1.intersection(s2))\n",
    "    denom = len(s1.union(s2))\n",
    "    if denom == 0:\n",
    "        return 0\n",
    "    return numer / denom\n",
    "    "
   ]
  },
  {
   "cell_type": "code",
   "execution_count": 116,
   "id": "2b0799c0",
   "metadata": {},
   "outputs": [],
   "source": [
    "def mostSimilar(i, func, N):\n",
    "    similarities = []\n",
    "    users = usersPerItem[i]\n",
    "    for i2 in usersPerItem:\n",
    "        if i2 == i: continue\n",
    "        sim = func(users, usersPerItem[i2])\n",
    "        similarities.append((sim,i2))\n",
    "    similarities.sort(reverse=True)\n",
    "    return similarities[:N]\n",
    "    "
   ]
  },
  {
   "cell_type": "code",
   "execution_count": 117,
   "id": "5a644542",
   "metadata": {},
   "outputs": [],
   "source": [
    "ms = mostSimilar(dataset[0]['gameID'], Jaccard, 10)"
   ]
  },
  {
   "cell_type": "code",
   "execution_count": 118,
   "id": "9dac233d",
   "metadata": {
    "scrolled": true
   },
   "outputs": [
    {
     "name": "stdout",
     "output_type": "stream",
     "text": [
      "[(0.07988165680473373, 'g38617933'), (0.07547169811320754, 'g15217706'), (0.0657439446366782, 'g52947714'), (0.06451612903225806, 'g97650885'), (0.05588235294117647, 'g61264440'), (0.05405405405405406, 'g34481494'), (0.05121951219512195, 'g94300691'), (0.04966887417218543, 'g08001721'), (0.045346062052505964, 'g53996086'), (0.04390243902439024, 'g66220144')]\n"
     ]
    }
   ],
   "source": [
    "print(ms)\n"
   ]
  },
  {
   "cell_type": "code",
   "execution_count": 121,
   "id": "d2202e12",
   "metadata": {},
   "outputs": [],
   "source": [
    "answers['Q13'] = [ms[0][0], ms[-1][0]]"
   ]
  },
  {
   "cell_type": "code",
   "execution_count": 122,
   "id": "df55cc6d",
   "metadata": {},
   "outputs": [],
   "source": [
    "assertFloatList(answers['Q13'], 2)"
   ]
  },
  {
   "cell_type": "code",
   "execution_count": 123,
   "id": "a266cafb",
   "metadata": {},
   "outputs": [],
   "source": [
    "### Question 14"
   ]
  },
  {
   "cell_type": "code",
   "execution_count": 133,
   "id": "c9f3ff2a",
   "metadata": {},
   "outputs": [],
   "source": [
    "globalMedian = [d['hours'] for d in dataset]\n",
    "globalMedian = np.median(globalMedian)"
   ]
  },
  {
   "cell_type": "code",
   "execution_count": 196,
   "id": "b15f52a4",
   "metadata": {},
   "outputs": [],
   "source": [
    "def mostSimilar14(i, func, N):\n",
    "    similarities = []\n",
    "    users = usersPerItem[i]\n",
    "    for i2 in usersPerItem:\n",
    "        if i2 == i: continue\n",
    "        sim = func(users, usersPerItem[i2])\n",
    "        similarities.append((sim,i2))\n",
    "    similarities.sort(reverse=True)\n",
    "    return similarities[:N]"
   ]
  },
  {
   "cell_type": "code",
   "execution_count": 197,
   "id": "4c99a503",
   "metadata": {},
   "outputs": [
    {
     "data": {
      "text/plain": [
       "{('u55351001', 'g35322304'): [-1],\n",
       " ('u70666506', 'g49368897'): [1],\n",
       " ('u18612571', 'g73495588'): [-1],\n",
       " ('u34283088', 'g68047320'): [1],\n",
       " ('u16220374', 'g51234623'): [-1],\n",
       " ('u01499286', 'g25723374'): [-1],\n",
       " ('u73063505', 'g58025004'): [1],\n",
       " ('u29223775', 'g69033010'): [1],\n",
       " ('u44401308', 'g46446145'): [1],\n",
       " ('u45027672', 'g02903254'): [-1],\n",
       " ('u33908704', 'g66086214'): [-1],\n",
       " ('u27998358', 'g21544048'): [-1],\n",
       " ('u36214177', 'g86787099'): [-1],\n",
       " ('u73747744', 'g23131507'): [1],\n",
       " ('u97936673', 'g65055990'): [-1],\n",
       " ('u25365202', 'g45124396'): [1],\n",
       " ('u08631099', 'g74380807'): [1],\n",
       " ('u52584928', 'g46738138'): [1],\n",
       " ('u09520763', 'g65420497'): [-1],\n",
       " ('u04893836', 'g76381409'): [-1],\n",
       " ('u58381940', 'g03420056'): [-1],\n",
       " ('u85007552', 'g13492762'): [-1],\n",
       " ('u48369340', 'g35678007'): [1],\n",
       " ('u79530461', 'g13492762'): [-1],\n",
       " ('u44157494', 'g28405264'): [-1],\n",
       " ('u70118164', 'g60903743'): [-1],\n",
       " ('u21352780', 'g92017077'): [1],\n",
       " ('u74354158', 'g98792097'): [1],\n",
       " ('u67890036', 'g11225866'): [-1],\n",
       " ('u90421779', 'g02428379'): [-1],\n",
       " ('u63577652', 'g39879078'): [1],\n",
       " ('u80585251', 'g32642694'): [-1],\n",
       " ('u17490349', 'g52626909'): [1],\n",
       " ('u58591954', 'g40499587'): [1],\n",
       " ('u09958308', 'g93325439'): [-1],\n",
       " ('u58917734', 'g97931549'): [1],\n",
       " ('u43617344', 'g54858064'): [1],\n",
       " ('u83284468', 'g93882251'): [1],\n",
       " ('u28405098', 'g18827702'): [-1],\n",
       " ('u47603874', 'g58862435'): [-1],\n",
       " ('u35984505', 'g48118089'): [-1],\n",
       " ('u12891480', 'g89200271'): [1],\n",
       " ('u48290481', 'g97574940'): [-1],\n",
       " ('u37438991', 'g66086214'): [1],\n",
       " ('u14867857', 'g42729032'): [1],\n",
       " ('u98010359', 'g48657523'): [1],\n",
       " ('u33597806', 'g78239118'): [1],\n",
       " ('u63248104', 'g15886508'): [1],\n",
       " ('u87386199', 'g95225789'): [-1],\n",
       " ('u12492690', 'g85442587'): [1],\n",
       " ('u19771394', 'g01176191'): [-1],\n",
       " ('u19599296', 'g60926645'): [-1],\n",
       " ('u52773685', 'g00777759'): [1],\n",
       " ('u12905306', 'g79333823'): [-1],\n",
       " ('u32538708', 'g46421079'): [1],\n",
       " ('u26899141', 'g10440938'): [-1],\n",
       " ('u70005241', 'g65175011'): [-1],\n",
       " ('u70647035', 'g49368897'): [1],\n",
       " ('u70645303', 'g51491804'): [-1],\n",
       " ('u47904373', 'g46300937'): [1],\n",
       " ('u90262380', 'g01549519'): [-1],\n",
       " ('u07307818', 'g70003539'): [-1],\n",
       " ('u02211193', 'g90538928'): [1],\n",
       " ('u27067398', 'g68626659'): [1],\n",
       " ('u88835772', 'g06324638'): [-1],\n",
       " ('u34999115', 'g35870742'): [-1],\n",
       " ('u15711329', 'g32303199'): [-1],\n",
       " ('u50987399', 'g83595955'): [-1],\n",
       " ('u72503354', 'g36122744'): [-1],\n",
       " ('u89607081', 'g77112337'): [1],\n",
       " ('u55833077', 'g48512616'): [1],\n",
       " ('u88806757', 'g12000126'): [1],\n",
       " ('u01283011', 'g40938967'): [-1],\n",
       " ('u34031843', 'g61225634'): [1],\n",
       " ('u09936668', 'g83221585'): [1],\n",
       " ('u65152844', 'g83425645'): [1],\n",
       " ('u03242465', 'g65055990'): [-1],\n",
       " ('u12556110', 'g79499736'): [1],\n",
       " ('u73963959', 'g27491100'): [-1],\n",
       " ('u90109995', 'g35449408'): [-1],\n",
       " ('u95210326', 'g47344447'): [-1],\n",
       " ('u60034827', 'g58014324'): [1],\n",
       " ('u35900932', 'g55933232'): [-1],\n",
       " ('u64823722', 'g59382127'): [1],\n",
       " ('u32441769', 'g68302537'): [1],\n",
       " ('u27420825', 'g43698728'): [-1],\n",
       " ('u12979095', 'g57932017'): [-1],\n",
       " ('u83445194', 'g23131507'): [-1],\n",
       " ('u47037823', 'g57834425'): [1],\n",
       " ('u39020317', 'g11225866'): [-1],\n",
       " ('u51637484', 'g28788625'): [-1],\n",
       " ('u29843563', 'g24550764'): [-1],\n",
       " ('u60956035', 'g58072288'): [1],\n",
       " ('u23567947', 'g24194110'): [1],\n",
       " ('u31753305', 'g57834425'): [1],\n",
       " ('u05310170', 'g45950487'): [1],\n",
       " ('u11491160', 'g96830890'): [-1],\n",
       " ('u11105542', 'g93941352'): [-1],\n",
       " ('u65998850', 'g08143802'): [1],\n",
       " ('u61243657', 'g61264440'): [-1],\n",
       " ('u46171715', 'g85442587'): [1],\n",
       " ('u78280392', 'g61264440'): [-1],\n",
       " ('u86005107', 'g91985937'): [1],\n",
       " ('u06464611', 'g25170902'): [1],\n",
       " ('u44605250', 'g94410811'): [1],\n",
       " ('u88434025', 'g29695966'): [-1],\n",
       " ('u94739498', 'g15881340'): [1],\n",
       " ('u71532684', 'g82166573'): [-1],\n",
       " ('u42347101', 'g36122744'): [-1],\n",
       " ('u06502269', 'g63858284'): [-1],\n",
       " ('u14906592', 'g93507333'): [-1],\n",
       " ('u10460685', 'g44635234'): [-1],\n",
       " ('u93450281', 'g79027240'): [-1],\n",
       " ('u41644422', 'g78139956'): [1],\n",
       " ('u06845404', 'g05339526'): [-1],\n",
       " ('u00628588', 'g62607719'): [-1],\n",
       " ('u75470769', 'g72890241'): [-1],\n",
       " ('u51270439', 'g15881340'): [1],\n",
       " ('u65027223', 'g08672397'): [1],\n",
       " ('u92719024', 'g06607161'): [1],\n",
       " ('u15739829', 'g06045292'): [1],\n",
       " ('u17751563', 'g73199890'): [1],\n",
       " ('u08983578', 'g66197269'): [-1],\n",
       " ('u65551086', 'g15064446'): [-1],\n",
       " ('u65274722', 'g72460998'): [1],\n",
       " ('u86258656', 'g54703242'): [1],\n",
       " ('u10691163', 'g28457917'): [-1],\n",
       " ('u50593621', 'g29464734'): [1],\n",
       " ('u38881068', 'g33325347'): [1],\n",
       " ('u92570404', 'g23185261'): [-1],\n",
       " ('u27544131', 'g15714062'): [1],\n",
       " ('u28629898', 'g00663854'): [-1],\n",
       " ('u70407797', 'g64596037'): [1],\n",
       " ('u49961321', 'g24268800'): [-1],\n",
       " ('u71800313', 'g69249829'): [1],\n",
       " ('u05015710', 'g03262233'): [-1],\n",
       " ('u17777056', 'g44025476'): [1],\n",
       " ('u97050705', 'g57175884'): [1],\n",
       " ('u05576561', 'g48118089'): [-1],\n",
       " ('u77506393', 'g96187396'): [1],\n",
       " ('u83097722', 'g22287423'): [-1],\n",
       " ('u90215446', 'g46486970'): [-1],\n",
       " ('u18875733', 'g66220144'): [-1],\n",
       " ('u51119424', 'g48753510'): [1],\n",
       " ('u99182282', 'g04462740'): [1],\n",
       " ('u88218929', 'g38170343'): [1],\n",
       " ('u08806945', 'g35135475'): [-1],\n",
       " ('u27544131', 'g54634449'): [-1],\n",
       " ('u22096553', 'g07986161'): [1],\n",
       " ('u33746699', 'g67293287'): [-1],\n",
       " ('u35179060', 'g72873062'): [1],\n",
       " ('u15739829', 'g16653801'): [1],\n",
       " ('u14184813', 'g23657488'): [1],\n",
       " ('u33254176', 'g23885183'): [-1],\n",
       " ('u44081559', 'g80431145'): [1],\n",
       " ('u45425014', 'g77400036'): [1],\n",
       " ('u22096553', 'g46950698'): [-1],\n",
       " ('u58849842', 'g70582637'): [-1],\n",
       " ('u99813696', 'g51234623'): [-1],\n",
       " ('u11593267', 'g87354867'): [-1],\n",
       " ('u63163832', 'g61225634'): [1],\n",
       " ('u00357752', 'g32003820'): [-1],\n",
       " ('u22298998', 'g75457006'): [1],\n",
       " ('u06118787', 'g56127438'): [1],\n",
       " ('u53628162', 'g82166573'): [-1],\n",
       " ('u63050765', 'g96831210'): [1],\n",
       " ('u44562324', 'g22839997'): [1],\n",
       " ('u78399036', 'g91985937'): [-1],\n",
       " ('u16209840', 'g12133696'): [-1],\n",
       " ('u74016254', 'g66187454'): [-1],\n",
       " ('u32402530', 'g65175011'): [-1],\n",
       " ('u83288532', 'g36361577'): [1],\n",
       " ('u04466631', 'g92017077'): [1],\n",
       " ('u79974556', 'g00805292'): [-1],\n",
       " ('u15844922', 'g93027730'): [1],\n",
       " ('u79273901', 'g63149989'): [1],\n",
       " ('u75343375', 'g53666531'): [1],\n",
       " ('u02243640', 'g43436077'): [1],\n",
       " ('u67143531', 'g06177547'): [-1],\n",
       " ('u68671276', 'g73481194'): [-1],\n",
       " ('u60146455', 'g88258978'): [-1],\n",
       " ('u68743894', 'g42907287'): [1],\n",
       " ('u69942744', 'g00288786'): [-1],\n",
       " ('u62644689', 'g68132896'): [-1],\n",
       " ('u56770007', 'g15714062'): [1],\n",
       " ('u95974698', 'g40499587'): [-1],\n",
       " ('u81489269', 'g78034556'): [-1],\n",
       " ('u22696973', 'g37422652'): [1],\n",
       " ('u69738495', 'g51830853'): [-1],\n",
       " ('u82262883', 'g64700359'): [-1],\n",
       " ('u96167444', 'g82668863'): [1],\n",
       " ('u92869955', 'g50139510'): [1],\n",
       " ('u42370240', 'g32015189'): [-1],\n",
       " ('u40347900', 'g68594066'): [-1],\n",
       " ('u58254457', 'g88735741'): [-1],\n",
       " ('u37109830', 'g79027240'): [-1],\n",
       " ('u88434025', 'g56396594'): [-1],\n",
       " ('u58733933', 'g51491804'): [-1],\n",
       " ('u39230731', 'g18581386'): [-1],\n",
       " ('u56327199', 'g96830890'): [-1],\n",
       " ('u85199007', 'g88534444'): [1],\n",
       " ('u79684960', 'g10773791'): [1],\n",
       " ('u59708985', 'g74380807'): [1],\n",
       " ('u51163091', 'g19759241'): [1],\n",
       " ('u87227222', 'g28112086'): [-1],\n",
       " ('u30338578', 'g25169928'): [1],\n",
       " ('u66004745', 'g67650495'): [1],\n",
       " ('u64016923', 'g51234623'): [-1],\n",
       " ('u90591026', 'g24662129'): [1],\n",
       " ('u62757983', 'g08344223'): [1],\n",
       " ('u27263635', 'g35150813'): [-1],\n",
       " ('u65379510', 'g82220080'): [1],\n",
       " ('u47270135', 'g57303786'): [-1],\n",
       " ('u56136272', 'g69336814'): [1],\n",
       " ('u82875792', 'g01873417'): [-1],\n",
       " ('u84467794', 'g96665580'): [1],\n",
       " ('u58822302', 'g37006412'): [-1],\n",
       " ('u26771241', 'g94257083'): [-1],\n",
       " ('u58338178', 'g09558961'): [1],\n",
       " ('u30833867', 'g03136155'): [1],\n",
       " ('u32714714', 'g46446145'): [1],\n",
       " ('u72952508', 'g52182535'): [1],\n",
       " ('u79245037', 'g58811265'): [-1],\n",
       " ('u59370489', 'g49157768'): [1],\n",
       " ('u55775021', 'g24479985'): [1],\n",
       " ('u88837062', 'g47086763'): [-1],\n",
       " ('u52579929', 'g03420056'): [-1],\n",
       " ('u69966150', 'g02273341'): [1],\n",
       " ('u17716601', 'g68959096'): [1],\n",
       " ('u19056561', 'g90301006'): [-1],\n",
       " ('u93961714', 'g15360200'): [1],\n",
       " ('u83427263', 'g78674402'): [-1],\n",
       " ('u00953018', 'g78817804'): [1],\n",
       " ('u31490960', 'g39845845'): [1],\n",
       " ('u91587996', 'g64167567'): [1],\n",
       " ('u95348276', 'g86739752'): [-1],\n",
       " ('u89709906', 'g29657740'): [1],\n",
       " ('u05518843', 'g66481183'): [-1],\n",
       " ('u18633205', 'g67857266'): [-1],\n",
       " ('u05114490', 'g18569645'): [-1],\n",
       " ('u42166729', 'g70274773'): [1],\n",
       " ('u53258669', 'g59833534'): [-1],\n",
       " ('u91136278', 'g39394945'): [1],\n",
       " ('u72922736', 'g52454443'): [1],\n",
       " ('u35871341', 'g29054099'): [-1],\n",
       " ('u53098507', 'g58025004'): [-1],\n",
       " ('u29035154', 'g82220080'): [1],\n",
       " ('u93364692', 'g09670581'): [1],\n",
       " ('u02012462', 'g23403411'): [1],\n",
       " ('u32456321', 'g24194110'): [-1],\n",
       " ('u81659773', 'g10773791'): [1],\n",
       " ('u52155642', 'g68132896'): [-1],\n",
       " ('u66562726', 'g45950487'): [-1],\n",
       " ('u32377855', 'g50163420'): [1],\n",
       " ('u31760825', 'g65683787'): [-1],\n",
       " ('u14495633', 'g58464197'): [-1],\n",
       " ('u27124852', 'g61856392'): [-1],\n",
       " ('u45660048', 'g35166995'): [-1],\n",
       " ('u18986794', 'g49593949'): [1],\n",
       " ('u00875922', 'g78518895'): [1],\n",
       " ('u87244996', 'g38024861'): [1],\n",
       " ('u16598632', 'g31756494'): [-1],\n",
       " ('u64671579', 'g46862476'): [1],\n",
       " ('u73753509', 'g59682009'): [1],\n",
       " ('u73982503', 'g31541380'): [1],\n",
       " ('u81251440', 'g69849525'): [-1],\n",
       " ('u15040844', 'g92017077'): [-1],\n",
       " ('u04836696', 'g05339526'): [1],\n",
       " ('u69556026', 'g09964073'): [-1],\n",
       " ('u88441925', 'g82880743'): [-1],\n",
       " ('u43379937', 'g13594852'): [1],\n",
       " ('u10867316', 'g66197269'): [-1],\n",
       " ('u69556026', 'g39394945'): [1],\n",
       " ('u72139431', 'g38434648'): [-1],\n",
       " ('u23800330', 'g77916923'): [1],\n",
       " ('u52831443', 'g38170343'): [1],\n",
       " ('u17742070', 'g89492775'): [1],\n",
       " ('u42897868', 'g05463839'): [1],\n",
       " ('u89993397', 'g65794132'): [-1],\n",
       " ('u11736936', 'g64348065'): [1],\n",
       " ('u31103256', 'g40532988'): [-1],\n",
       " ('u62855536', 'g95702441'): [1],\n",
       " ('u20730600', 'g38170343'): [-1],\n",
       " ('u85199007', 'g69849525'): [-1],\n",
       " ('u49457621', 'g84397720'): [-1],\n",
       " ('u65449218', 'g56115255'): [1],\n",
       " ('u73863896', 'g43254702'): [-1],\n",
       " ('u55818297', 'g10923163'): [1],\n",
       " ('u42241023', 'g85605126'): [1],\n",
       " ('u12285210', 'g79056135'): [-1],\n",
       " ('u31204595', 'g96710709'): [-1],\n",
       " ('u53923084', 'g61877459'): [-1],\n",
       " ('u71800313', 'g51682801'): [-1],\n",
       " ('u70647035', 'g38230643'): [1],\n",
       " ('u47054693', 'g68594066'): [-1],\n",
       " ('u70917707', 'g83607000'): [1],\n",
       " ('u82936629', 'g38724809'): [1],\n",
       " ('u48378925', 'g82166573'): [-1],\n",
       " ('u69942744', 'g31712310'): [1],\n",
       " ('u65717372', 'g69425217'): [-1],\n",
       " ('u94222355', 'g68845568'): [1],\n",
       " ('u19670502', 'g20272030'): [-1],\n",
       " ('u26710071', 'g79333823'): [1],\n",
       " ('u69137549', 'g24550764'): [-1],\n",
       " ('u28470370', 'g66403731'): [-1],\n",
       " ('u06971689', 'g69033010'): [1],\n",
       " ('u08568174', 'g74119615'): [-1],\n",
       " ('u06231068', 'g04423005'): [1],\n",
       " ('u03201327', 'g25077590'): [1],\n",
       " ('u05581149', 'g78518895'): [1],\n",
       " ('u07583525', 'g01660600'): [1],\n",
       " ('u55730078', 'g26730287'): [1],\n",
       " ('u81349942', 'g70592519'): [-1],\n",
       " ('u93591744', 'g22839997'): [1],\n",
       " ('u97802984', 'g92017077'): [-1],\n",
       " ('u90337818', 'g89492775'): [1],\n",
       " ('u75811549', 'g03420056'): [1],\n",
       " ('u19431743', 'g43076769'): [-1],\n",
       " ('u90733484', 'g02416235'): [1],\n",
       " ('u72398292', 'g21595192'): [-1],\n",
       " ('u45342952', 'g15881340'): [-1],\n",
       " ('u33457819', 'g79861485'): [1],\n",
       " ('u96971686', 'g15714062'): [1],\n",
       " ('u06223538', 'g47669117'): [-1],\n",
       " ('u22395052', 'g75513928'): [1],\n",
       " ('u33042402', 'g00475133'): [1],\n",
       " ('u71672839', 'g88632905'): [-1],\n",
       " ('u94680884', 'g01873417'): [1],\n",
       " ('u04259444', 'g46932837'): [-1],\n",
       " ('u45934020', 'g01685044'): [-1],\n",
       " ('u88835772', 'g36471550'): [-1],\n",
       " ('u02338699', 'g82874353'): [-1],\n",
       " ('u24464327', 'g27545941'): [-1],\n",
       " ('u56136272', 'g47540055'): [-1],\n",
       " ('u71800313', 'g29741733'): [1],\n",
       " ('u81360847', 'g39422502'): [-1],\n",
       " ('u56166550', 'g80438960'): [1],\n",
       " ('u71996483', 'g18223055'): [-1],\n",
       " ('u56021748', 'g82616432'): [-1],\n",
       " ('u90210178', 'g10444367'): [1],\n",
       " ('u13076145', 'g68564716'): [1],\n",
       " ('u79354427', 'g88406710'): [1],\n",
       " ('u33701854', 'g91799982'): [-1],\n",
       " ('u21133378', 'g41331921'): [1],\n",
       " ('u97829138', 'g53927674'): [-1],\n",
       " ('u21089564', 'g96830890'): [1],\n",
       " ('u95721915', 'g15360200'): [-1],\n",
       " ('u45148118', 'g31560999'): [-1],\n",
       " ('u44081559', 'g60607670'): [-1],\n",
       " ('u42035064', 'g41141819'): [-1],\n",
       " ('u59869979', 'g45978626'): [-1],\n",
       " ('u91703040', 'g10259243'): [1],\n",
       " ('u62246824', 'g29890162'): [-1],\n",
       " ('u74679178', 'g54662124'): [-1],\n",
       " ('u27244547', 'g53024880'): [-1],\n",
       " ('u11399660', 'g03280058'): [1],\n",
       " ('u79398659', 'g47915473'): [-1],\n",
       " ('u49244274', 'g71192260'): [-1],\n",
       " ('u59568450', 'g39055346'): [-1],\n",
       " ('u06187144', 'g68135850'): [-1],\n",
       " ('u31712305', 'g00083675'): [-1],\n",
       " ('u52201343', 'g48556857'): [-1],\n",
       " ('u62354011', 'g31800990'): [1],\n",
       " ('u80734230', 'g88216046'): [1],\n",
       " ('u94793879', 'g81456217'): [-1],\n",
       " ('u15250211', 'g78139956'): [-1],\n",
       " ('u25717012', 'g09482600'): [-1],\n",
       " ('u55105731', 'g11862282'): [-1],\n",
       " ('u93071176', 'g78818328'): [1],\n",
       " ('u41103984', 'g45232069'): [1],\n",
       " ('u01457302', 'g14806591'): [1],\n",
       " ('u39216927', 'g56127438'): [-1],\n",
       " ('u48121649', 'g32819803'): [-1],\n",
       " ('u32402530', 'g04615400'): [1],\n",
       " ('u38148878', 'g92782480'): [-1],\n",
       " ('u27709887', 'g66187454'): [-1],\n",
       " ('u67317909', 'g95457243'): [-1],\n",
       " ('u70169974', 'g58025004'): [1],\n",
       " ('u22284190', 'g65055990'): [-1],\n",
       " ('u46276007', 'g84720805'): [1],\n",
       " ('u63218599', 'g16586637'): [1],\n",
       " ('u36025454', 'g41031307'): [1],\n",
       " ('u87799097', 'g63396588'): [1],\n",
       " ('u03608422', 'g21595192'): [-1],\n",
       " ('u72986401', 'g43436077'): [1],\n",
       " ('u46872691', 'g39366834'): [-1],\n",
       " ('u83503668', 'g82994209'): [1],\n",
       " ('u92112007', 'g61434161'): [1],\n",
       " ('u70118164', 'g24555799'): [-1],\n",
       " ('u55835946', 'g94547789'): [1],\n",
       " ('u54177102', 'g99317241'): [1],\n",
       " ('u42222139', 'g29752784'): [1],\n",
       " ('u82875792', 'g58025004'): [-1],\n",
       " ('u31712305', 'g31712310'): [1],\n",
       " ('u60154970', 'g33872505'): [-1],\n",
       " ('u32369191', 'g89492775'): [1],\n",
       " ('u41317587', 'g51322209'): [-1],\n",
       " ('u07492501', 'g98118815'): [1],\n",
       " ('u04903635', 'g49636917'): [-1],\n",
       " ('u52704336', 'g74412462'): [1],\n",
       " ('u59755606', 'g68132896'): [1],\n",
       " ('u91823042', 'g90832644'): [1],\n",
       " ('u64671579', 'g06538880'): [-1],\n",
       " ('u91505067', 'g42862258'): [1],\n",
       " ('u58468346', 'g86428226'): [-1],\n",
       " ('u55381716', 'g10675976'): [-1],\n",
       " ('u91465670', 'g93472160'): [-1],\n",
       " ('u83394320', 'g17074600'): [-1],\n",
       " ('u98413978', 'g29494592'): [1],\n",
       " ('u63905484', 'g77640255'): [1],\n",
       " ('u61078154', 'g40499587'): [1],\n",
       " ('u63163832', 'g64348065'): [-1],\n",
       " ('u39532419', 'g62915473'): [1],\n",
       " ('u92729375', 'g16967024'): [-1],\n",
       " ('u53619060', 'g17074600'): [-1],\n",
       " ('u14014903', 'g84129057'): [-1],\n",
       " ('u85115534', 'g36338988'): [1],\n",
       " ('u41793614', 'g70836954'): [-1],\n",
       " ('u96397429', 'g73792397'): [-1],\n",
       " ('u33427219', 'g66220144'): [-1],\n",
       " ('u14947742', 'g14479207'): [1],\n",
       " ('u34913220', 'g40499587'): [1],\n",
       " ('u03556571', 'g56751692'): [1],\n",
       " ('u63097990', 'g80603516'): [-1],\n",
       " ('u62720974', 'g98307890'): [-1],\n",
       " ('u98382527', 'g55646573'): [-1],\n",
       " ('u04989018', 'g61364485'): [1],\n",
       " ('u97774562', 'g59271404'): [1],\n",
       " ('u79311898', 'g25063114'): [1],\n",
       " ('u52643255', 'g25876484'): [-1],\n",
       " ('u24033680', 'g68818867'): [1],\n",
       " ('u09932820', 'g18827702'): [-1],\n",
       " ('u51962149', 'g38434648'): [1],\n",
       " ('u79483995', 'g77400036'): [-1],\n",
       " ('u55486347', 'g84433673'): [1],\n",
       " ('u46692057', 'g04615400'): [1],\n",
       " ('u83423962', 'g82275622'): [-1],\n",
       " ('u94960521', 'g06266910'): [-1],\n",
       " ('u81562258', 'g54327129'): [1],\n",
       " ('u34591471', 'g18342664'): [-1],\n",
       " ('u02081561', 'g22927590'): [-1],\n",
       " ('u11615113', 'g72841273'): [-1],\n",
       " ('u61150089', 'g36471550'): [-1],\n",
       " ('u71486940', 'g16967024'): [-1],\n",
       " ('u24738820', 'g17604638'): [-1],\n",
       " ('u78883544', 'g33776814'): [1],\n",
       " ('u01432674', 'g66197269'): [-1],\n",
       " ('u90007181', 'g19451556'): [1],\n",
       " ('u03233576', 'g02273341'): [1],\n",
       " ('u85939164', 'g71471611'): [1],\n",
       " ('u08166315', 'g24479985'): [1],\n",
       " ('u74599559', 'g68594066'): [-1],\n",
       " ('u42003455', 'g70286157'): [1],\n",
       " ('u36393124', 'g76745472'): [-1],\n",
       " ('u24632292', 'g17074600'): [-1],\n",
       " ('u66850142', 'g36879809'): [-1],\n",
       " ('u17988807', 'g03136155'): [-1],\n",
       " ('u48261357', 'g47087082'): [-1],\n",
       " ('u78735646', 'g68959096'): [-1],\n",
       " ('u27347248', 'g36338988'): [-1],\n",
       " ('u80085723', 'g15881340'): [1],\n",
       " ('u98179594', 'g36958384'): [1],\n",
       " ('u79566293', 'g80979867'): [-1],\n",
       " ('u68554058', 'g00602342'): [1],\n",
       " ('u62005453', 'g71073909'): [-1],\n",
       " ('u39566752', 'g89200271'): [1],\n",
       " ('u59268285', 'g91952332'): [1],\n",
       " ('u00198127', 'g17807252'): [1],\n",
       " ('u16977154', 'g83757895'): [1],\n",
       " ('u18969273', 'g59132435'): [-1],\n",
       " ('u28542486', 'g32683225'): [-1],\n",
       " ('u96347560', 'g89465021'): [-1],\n",
       " ('u01450589', 'g88406710'): [-1],\n",
       " ('u74849356', 'g06177547'): [1],\n",
       " ('u22437467', 'g83444124'): [-1],\n",
       " ('u47024805', 'g15881340'): [1],\n",
       " ('u56283764', 'g85491208'): [1],\n",
       " ('u10115696', 'g24508767'): [-1],\n",
       " ('u99369901', 'g53078416'): [-1],\n",
       " ('u79152764', 'g33872505'): [-1],\n",
       " ('u30419181', 'g41623816'): [-1],\n",
       " ('u29216495', 'g96221632'): [-1],\n",
       " ('u12502495', 'g60355697'): [-1],\n",
       " ('u57355453', 'g90898833'): [-1],\n",
       " ('u95798288', 'g15547870'): [1],\n",
       " ('u21838481', 'g17074600'): [-1],\n",
       " ('u90437656', 'g86428226'): [-1],\n",
       " ('u68603964', 'g81135807'): [-1],\n",
       " ('u88434025', 'g89809648'): [1],\n",
       " ('u62201021', 'g78139956'): [-1],\n",
       " ('u54714550', 'g69693461'): [-1],\n",
       " ('u07825507', 'g15339821'): [1],\n",
       " ('u47180106', 'g82668863'): [1],\n",
       " ('u30739982', 'g78239118'): [1],\n",
       " ('u03790099', 'g65734768'): [1],\n",
       " ('u21769359', 'g10685659'): [-1],\n",
       " ('u87426831', 'g91024164'): [1],\n",
       " ('u25365202', 'g48257412'): [1],\n",
       " ('u48675073', 'g83757895'): [1],\n",
       " ('u52018626', 'g58479043'): [-1],\n",
       " ('u12125660', 'g53536844'): [-1],\n",
       " ('u79541988', 'g24479985'): [-1],\n",
       " ('u89709906', 'g80196469'): [-1],\n",
       " ('u56274213', 'g03162218'): [1],\n",
       " ('u33714836', 'g33591260'): [1],\n",
       " ('u88844065', 'g33872505'): [-1],\n",
       " ('u02780373', 'g93472243'): [-1],\n",
       " ('u88726473', 'g15881340'): [1],\n",
       " ('u40742527', 'g32904933'): [-1],\n",
       " ('u35171801', 'g03207903'): [-1],\n",
       " ('u57950682', 'g72772720'): [-1],\n",
       " ('u08460828', 'g21595192'): [-1],\n",
       " ('u43994930', 'g94257083'): [-1],\n",
       " ('u67757702', 'g52414449'): [-1],\n",
       " ('u89239385', 'g55811676'): [1],\n",
       " ('u78202970', 'g34397868'): [1],\n",
       " ('u31623551', 'g17074600'): [1],\n",
       " ('u63347594', 'g78336897'): [1],\n",
       " ('u38420807', 'g85252310'): [-1],\n",
       " ('u94085555', 'g89492775'): [1],\n",
       " ('u90429334', 'g75228197'): [-1],\n",
       " ('u79530461', 'g28397260'): [-1],\n",
       " ('u28343851', 'g25130014'): [1],\n",
       " ('u96375702', 'g59833534'): [1],\n",
       " ('u32720476', 'g26732871'): [1],\n",
       " ('u34999115', 'g81117967'): [1],\n",
       " ('u73718543', 'g89492775'): [-1],\n",
       " ('u17156425', 'g27545941'): [-1],\n",
       " ('u80792313', 'g64348065'): [-1],\n",
       " ('u69256218', 'g15360200'): [-1],\n",
       " ('u45679096', 'g57175884'): [1],\n",
       " ('u27906982', 'g24809309'): [-1],\n",
       " ('u52579929', 'g42111697'): [1],\n",
       " ('u94443376', 'g68460338'): [-1],\n",
       " ('u73667368', 'g00880401'): [1],\n",
       " ('u56197595', 'g93941352'): [1],\n",
       " ('u63840885', 'g24194110'): [-1],\n",
       " ('u94750194', 'g06177547'): [1],\n",
       " ('u80605925', 'g08415052'): [-1],\n",
       " ('u31394716', 'g77960728'): [1],\n",
       " ('u86081323', 'g31712310'): [1],\n",
       " ('u49752072', 'g92522857'): [-1],\n",
       " ('u53958870', 'g48512616'): [1],\n",
       " ('u82361180', 'g28652141'): [1],\n",
       " ('u90093410', 'g56621675'): [1],\n",
       " ('u04109297', 'g18464514'): [-1],\n",
       " ('u59755606', 'g23403411'): [1],\n",
       " ('u87426831', 'g74942396'): [1],\n",
       " ('u47242027', 'g89769852'): [-1],\n",
       " ('u66627551', 'g65756682'): [1],\n",
       " ('u48616923', 'g24435313'): [-1],\n",
       " ('u93459370', 'g03855764'): [1],\n",
       " ('u58200581', 'g31541380'): [1],\n",
       " ('u72216053', 'g22136822'): [-1],\n",
       " ('u92301572', 'g72460998'): [-1],\n",
       " ('u61738822', 'g89554109'): [-1],\n",
       " ('u71495753', 'g47729030'): [1],\n",
       " ('u82332490', 'g34481494'): [-1],\n",
       " ('u61076669', 'g89492775'): [1],\n",
       " ('u98382527', 'g79499736'): [1],\n",
       " ('u88835772', 'g59553750'): [-1],\n",
       " ('u78389390', 'g08220648'): [-1],\n",
       " ('u73868850', 'g08511321'): [1],\n",
       " ('u00211549', 'g03718546'): [-1],\n",
       " ('u17284479', 'g17218685'): [-1],\n",
       " ('u55611139', 'g17807252'): [1],\n",
       " ('u90666952', 'g94005519'): [1],\n",
       " ('u93364692', 'g89492775'): [1],\n",
       " ('u95169497', 'g31712310'): [-1],\n",
       " ('u16346527', 'g25261479'): [1],\n",
       " ('u81310029', 'g48849824'): [-1],\n",
       " ('u38419315', 'g36769937'): [1],\n",
       " ('u54965133', 'g64755089'): [1],\n",
       " ('u98799221', 'g53666531'): [1],\n",
       " ('u14312444', 'g83147553'): [-1],\n",
       " ('u04311781', 'g31712310'): [-1],\n",
       " ('u85762815', 'g16903439'): [1],\n",
       " ('u05581149', 'g25077590'): [1],\n",
       " ('u32377855', 'g68182978'): [1],\n",
       " ('u99576383', 'g31800990'): [1],\n",
       " ('u38727086', 'g42729032'): [1],\n",
       " ('u18612571', 'g84515065'): [-1],\n",
       " ('u13424219', 'g22136822'): [1],\n",
       " ('u24658352', 'g08561999'): [1],\n",
       " ('u47168952', 'g52454443'): [-1],\n",
       " ('u92112007', 'g10701910'): [-1],\n",
       " ('u25827317', 'g60607670'): [-1],\n",
       " ('u70487702', 'g76822730'): [1],\n",
       " ('u85366813', 'g69249829'): [-1],\n",
       " ('u93185343', 'g81456217'): [-1],\n",
       " ('u54953931', 'g99496555'): [-1],\n",
       " ('u60628281', 'g75160975'): [-1],\n",
       " ('u28260148', 'g97873808'): [-1],\n",
       " ('u46678332', 'g51093074'): [1],\n",
       " ('u54755806', 'g54662124'): [1],\n",
       " ('u23724796', 'g02416235'): [1],\n",
       " ('u77827699', 'g58014324'): [1],\n",
       " ('u54714550', 'g36769937'): [1],\n",
       " ('u39599062', 'g31712310'): [1],\n",
       " ('u64077850', 'g36356257'): [-1],\n",
       " ('u65396282', 'g78818328'): [-1],\n",
       " ('u05068078', 'g85485988'): [-1],\n",
       " ('u72986401', 'g06921499'): [-1],\n",
       " ('u03209692', 'g43689131'): [-1],\n",
       " ('u78239215', 'g03280058'): [1],\n",
       " ('u41736066', 'g25357537'): [-1],\n",
       " ('u61755488', 'g26732871'): [1],\n",
       " ('u59698390', 'g33776814'): [-1],\n",
       " ('u11812854', 'g19425343'): [1],\n",
       " ('u30278296', 'g68137463'): [-1],\n",
       " ('u38825354', 'g60607670'): [-1],\n",
       " ('u56136272', 'g89237308'): [-1],\n",
       " ('u65883423', 'g68302537'): [-1],\n",
       " ('u71996483', 'g57032458'): [-1],\n",
       " ('u61457662', 'g41193056'): [1],\n",
       " ('u82283399', 'g10717886'): [-1],\n",
       " ('u75343375', 'g17361564'): [-1],\n",
       " ('u49653217', 'g72841273'): [-1],\n",
       " ('u57510806', 'g00125299'): [1],\n",
       " ('u11427817', 'g28403640'): [1],\n",
       " ('u01154477', 'g69849525'): [-1],\n",
       " ('u07403582', 'g20435241'): [-1],\n",
       " ('u92381286', 'g15540544'): [-1],\n",
       " ('u17884154', 'g17704742'): [1],\n",
       " ('u70917707', 'g03855764'): [-1],\n",
       " ('u77156869', 'g89200271'): [1],\n",
       " ('u16966941', 'g57588908'): [-1],\n",
       " ('u99498831', 'g33721553'): [-1],\n",
       " ('u98443157', 'g78518895'): [-1],\n",
       " ('u12741451', 'g67274965'): [1],\n",
       " ('u53621137', 'g43409822'): [1],\n",
       " ('u00198127', 'g69693461'): [1],\n",
       " ('u47028892', 'g89200271'): [-1],\n",
       " ('u71664746', 'g78518895'): [1],\n",
       " ('u29401175', 'g03136155'): [-1],\n",
       " ('u62560683', 'g36338988'): [-1],\n",
       " ('u76241191', 'g05551150'): [1],\n",
       " ('u39599062', 'g57016851'): [-1],\n",
       " ('u98682022', 'g52620301'): [1],\n",
       " ('u41981227', 'g67650495'): [-1],\n",
       " ('u09970728', 'g56626398'): [-1],\n",
       " ('u29033935', 'g24862366'): [-1],\n",
       " ('u91673094', 'g93472160'): [-1],\n",
       " ('u04938777', 'g41331921'): [1],\n",
       " ('u86258656', 'g26192910'): [1],\n",
       " ('u23564587', 'g77859458'): [1],\n",
       " ('u27646423', 'g33893277'): [-1],\n",
       " ('u61709204', 'g06975986'): [-1],\n",
       " ('u38155838', 'g15547870'): [1],\n",
       " ('u40002160', 'g32136079'): [-1],\n",
       " ('u84062881', 'g46300937'): [1],\n",
       " ('u77665302', 'g09203234'): [1],\n",
       " ('u05086511', 'g25876484'): [-1],\n",
       " ('u46745373', 'g74112521'): [-1],\n",
       " ('u77827699', 'g57834425'): [1],\n",
       " ('u46645213', 'g01873417'): [1],\n",
       " ('u97099051', 'g47087082'): [-1],\n",
       " ('u17384601', 'g69249829'): [1],\n",
       " ('u67989643', 'g06097413'): [1],\n",
       " ('u69804013', 'g90301006'): [-1],\n",
       " ('u49592765', 'g29657740'): [-1],\n",
       " ('u49569747', 'g23869965'): [-1],\n",
       " ('u49961321', 'g68132896'): [1],\n",
       " ('u18029408', 'g70274773'): [1],\n",
       " ('u16384355', 'g01959969'): [-1],\n",
       " ('u44583541', 'g74699976'): [-1],\n",
       " ('u51962149', 'g10053132'): [-1],\n",
       " ('u18067087', 'g75248233'): [1],\n",
       " ('u47741496', 'g15714062'): [1],\n",
       " ('u31492526', 'g05349653'): [1],\n",
       " ('u82872855', 'g05463839'): [1],\n",
       " ('u56506625', 'g85900991'): [1],\n",
       " ('u26837546', 'g10773791'): [1],\n",
       " ('u96883621', 'g37015483'): [1],\n",
       " ('u25000916', 'g22136822'): [-1],\n",
       " ('u60584353', 'g86787099'): [-1],\n",
       " ('u34295594', 'g09533499'): [-1],\n",
       " ('u98413978', 'g50079336'): [-1],\n",
       " ('u40347900', 'g97784906'): [1],\n",
       " ('u08369407', 'g37490691'): [-1],\n",
       " ('u34600363', 'g10053132'): [-1],\n",
       " ('u11949707', 'g57431639'): [1],\n",
       " ('u13037843', 'g94005519'): [1],\n",
       " ('u86096399', 'g76745472'): [1],\n",
       " ('u54051090', 'g24576552'): [-1],\n",
       " ('u40959771', 'g21595192'): [-1],\n",
       " ('u76404562', 'g91952332'): [1],\n",
       " ('u98396281', 'g52756366'): [1],\n",
       " ('u06544537', 'g74942396'): [1],\n",
       " ('u55449940', 'g44267126'): [-1],\n",
       " ('u12276837', 'g62481736'): [-1],\n",
       " ('u29576207', 'g69828318'): [-1],\n",
       " ('u07635613', 'g30838069'): [-1],\n",
       " ('u93376085', 'g67650495'): [-1],\n",
       " ('u80563208', 'g91035389'): [-1],\n",
       " ('u49244274', 'g70709452'): [1],\n",
       " ('u02882779', 'g23826249'): [-1],\n",
       " ('u83192523', 'g12460730'): [1],\n",
       " ('u58591954', 'g41577769'): [1],\n",
       " ('u61984333', 'g35444269'): [1],\n",
       " ('u00715488', 'g96198443'): [1],\n",
       " ('u72671384', 'g28403640'): [1],\n",
       " ('u21233168', 'g46092771'): [-1],\n",
       " ('u73312807', 'g02637258'): [-1],\n",
       " ('u14312444', 'g59442626'): [1],\n",
       " ('u54654852', 'g74105866'): [-1],\n",
       " ('u02129594', 'g09670581'): [-1],\n",
       " ('u62593459', 'g87912242'): [1],\n",
       " ('u83416802', 'g17514824'): [-1],\n",
       " ('u39855963', 'g00475133'): [1],\n",
       " ('u04495704', 'g30998929'): [-1],\n",
       " ('u39544543', 'g69735369'): [-1],\n",
       " ('u24506196', 'g59317800'): [1],\n",
       " ('u75917410', 'g66296428'): [1],\n",
       " ('u58471931', 'g81608348'): [1],\n",
       " ('u25599643', 'g69735369'): [1],\n",
       " ('u47661995', 'g05551150'): [-1],\n",
       " ('u77089819', 'g29494592'): [1],\n",
       " ('u32243545', 'g92782480'): [-1],\n",
       " ('u11427817', 'g71073909'): [-1],\n",
       " ('u76352109', 'g78518895'): [1],\n",
       " ('u89709906', 'g68547272'): [1],\n",
       " ('u31760825', 'g96187396'): [-1],\n",
       " ('u32770398', 'g32913777'): [-1],\n",
       " ('u03317306', 'g25261479'): [-1],\n",
       " ('u68530602', 'g79499736'): [1],\n",
       " ('u73485675', 'g25876484'): [-1],\n",
       " ('u39563714', 'g36841558'): [-1],\n",
       " ('u04771226', 'g74035719'): [-1],\n",
       " ('u76617351', 'g85212990'): [-1],\n",
       " ('u65551086', 'g42124312'): [-1],\n",
       " ('u96883621', 'g26445690'): [-1],\n",
       " ('u07680623', 'g46267372'): [-1],\n",
       " ('u47819715', 'g46446145'): [-1],\n",
       " ('u68598297', 'g88509571'): [-1],\n",
       " ('u21021746', 'g51399674'): [1],\n",
       " ('u05581149', 'g22764090'): [-1],\n",
       " ('u50473964', 'g53715495'): [1],\n",
       " ('u87938517', 'g10773791'): [1],\n",
       " ('u64237842', 'g44085371'): [-1],\n",
       " ('u08403032', 'g18932527'): [-1],\n",
       " ('u62509621', 'g18252834'): [-1],\n",
       " ('u60034827', 'g89200271'): [1],\n",
       " ('u96226018', 'g02903254'): [-1],\n",
       " ('u96104653', 'g48350599'): [-1],\n",
       " ('u44401308', 'g12104166'): [1],\n",
       " ('u25511862', 'g06097413'): [1],\n",
       " ('u01276399', 'g15536656'): [-1],\n",
       " ('u42889153', 'g15714062'): [1],\n",
       " ('u42908769', 'g92469827'): [-1],\n",
       " ('u51962149', 'g16952539'): [1],\n",
       " ('u64713703', 'g31370047'): [1],\n",
       " ('u61150089', 'g70132690'): [1],\n",
       " ('u37836993', 'g25357537'): [-1],\n",
       " ('u57886191', 'g95916447'): [-1],\n",
       " ('u33399997', 'g26730287'): [-1],\n",
       " ('u97802984', 'g89492775'): [-1],\n",
       " ('u96852472', 'g49722483'): [1],\n",
       " ('u04939787', 'g46537467'): [-1],\n",
       " ('u19311904', 'g77288617'): [-1],\n",
       " ('u59361314', 'g69051492'): [-1],\n",
       " ('u47388253', 'g77859458'): [1],\n",
       " ('u64072664', 'g91985937'): [-1],\n",
       " ('u93933943', 'g59132435'): [-1],\n",
       " ('u73061090', 'g46932837'): [-1],\n",
       " ('u60034715', 'g48402991'): [-1],\n",
       " ('u53473939', 'g78518895'): [-1],\n",
       " ('u91401178', 'g33591260'): [-1],\n",
       " ('u87853991', 'g41141819'): [-1],\n",
       " ('u81022198', 'g66086214'): [1],\n",
       " ('u13250932', 'g70011042'): [1],\n",
       " ('u55105731', 'g38964542'): [-1],\n",
       " ('u89239385', 'g74112521'): [1],\n",
       " ('u74180765', 'g61465953'): [-1],\n",
       " ('u31760825', 'g44025476'): [-1],\n",
       " ('u02954565', 'g72581090'): [-1],\n",
       " ('u92142028', 'g06378804'): [-1],\n",
       " ('u61738822', 'g41623816'): [-1],\n",
       " ('u59883445', 'g06177547'): [1],\n",
       " ('u22096553', 'g70232376'): [-1],\n",
       " ('u77655643', 'g17873194'): [1],\n",
       " ('u38827286', 'g86428226'): [-1],\n",
       " ('u93621031', 'g43466418'): [-1],\n",
       " ('u65998850', 'g35166995'): [-1],\n",
       " ('u20566880', 'g17074600'): [-1],\n",
       " ('u55833077', 'g31712310'): [1],\n",
       " ('u80583554', 'g46932837'): [-1],\n",
       " ('u29752586', 'g85719462'): [-1],\n",
       " ('u95475607', 'g53666531'): [1],\n",
       " ('u81930231', 'g15870705'): [-1],\n",
       " ('u33849260', 'g18030920'): [-1],\n",
       " ('u98582042', 'g66220144'): [-1],\n",
       " ('u76551408', 'g16320816'): [-1],\n",
       " ('u66004745', 'g10773791'): [1],\n",
       " ('u84603281', 'g98217589'): [-1],\n",
       " ('u55350279', 'g15742115'): [-1],\n",
       " ('u18042527', 'g05843073'): [1],\n",
       " ('u06083958', 'g70274773'): [1],\n",
       " ('u19075325', 'g40124000'): [-1],\n",
       " ('u11882275', 'g85442587'): [1],\n",
       " ('u90344735', 'g34765721'): [1],\n",
       " ('u88806757', 'g10385772'): [-1],\n",
       " ('u77044163', 'g17368340'): [-1],\n",
       " ('u35014505', 'g03136155'): [1],\n",
       " ('u34042649', 'g84985541'): [1],\n",
       " ('u44712083', 'g03855764'): [-1],\n",
       " ('u42024428', 'g06546918'): [-1],\n",
       " ('u49238900', 'g47205010'): [1],\n",
       " ('u52959535', 'g79333823'): [1],\n",
       " ('u39188769', 'g66197269'): [-1],\n",
       " ('u67101950', 'g94300691'): [-1],\n",
       " ('u52799909', 'g62481736'): [1],\n",
       " ('u71514747', 'g67170903'): [-1],\n",
       " ('u46422197', 'g43436077'): [1],\n",
       " ('u00687255', 'g31448607'): [-1],\n",
       " ('u55833077', 'g51450658'): [1],\n",
       " ('u58624800', 'g09482600'): [-1],\n",
       " ('u45148118', 'g16320816'): [-1],\n",
       " ('u98179594', 'g10081212'): [-1],\n",
       " ('u91673094', 'g32579898'): [-1],\n",
       " ('u41317587', 'g85485988'): [1],\n",
       " ('u14140705', 'g87795702'): [1],\n",
       " ('u87534292', 'g68135850'): [-1],\n",
       " ('u82658939', 'g40499587'): [1],\n",
       " ('u31435261', 'g44085371'): [-1],\n",
       " ('u25331768', 'g85442587'): [-1],\n",
       " ('u53056713', 'g72460998'): [-1],\n",
       " ('u82515621', 'g26192910'): [-1],\n",
       " ('u52146622', 'g95765068'): [-1],\n",
       " ('u71130252', 'g75912186'): [-1],\n",
       " ('u25631744', 'g57175884'): [1],\n",
       " ('u48059598', 'g03262233'): [-1],\n",
       " ('u88365353', 'g46446145'): [-1],\n",
       " ('u12182788', 'g53078416'): [-1],\n",
       " ('u23904359', 'g42523222'): [-1],\n",
       " ('u67343366', 'g84702033'): [-1],\n",
       " ('u82502949', 'g58129520'): [-1],\n",
       " ('u03997304', 'g10259243'): [1],\n",
       " ('u38561265', 'g85026274'): [-1],\n",
       " ('u05068233', 'g32245303'): [-1],\n",
       " ('u25936320', 'g73199890'): [1],\n",
       " ('u16311463', 'g28952305'): [-1],\n",
       " ('u74606341', 'g09558961'): [1],\n",
       " ('u10245930', 'g28900944'): [-1],\n",
       " ('u50538538', 'g48657523'): [1],\n",
       " ('u02081561', 'g13451594'): [1],\n",
       " ('u29916526', 'g03136155'): [-1],\n",
       " ('u40145039', 'g96830890'): [-1],\n",
       " ('u39877819', 'g79861485'): [1],\n",
       " ('u89325755', 'g78336897'): [1],\n",
       " ('u27141768', 'g82220080'): [1],\n",
       " ('u75142913', 'g85442587'): [1],\n",
       " ('u63256053', 'g62087868'): [-1],\n",
       " ('u29216495', 'g81608348'): [1],\n",
       " ('u07229282', 'g91952332'): [1],\n",
       " ('u09833175', 'g61214579'): [-1],\n",
       " ('u06718972', 'g74699976'): [-1],\n",
       " ('u35176345', 'g10962300'): [-1],\n",
       " ('u01363394', 'g33084376'): [-1],\n",
       " ('u59141532', 'g93355263'): [-1],\n",
       " ('u64280940', 'g76027154'): [-1],\n",
       " ('u18093411', 'g19451556'): [1],\n",
       " ('u83343215', 'g37255956'): [-1],\n",
       " ('u16209840', 'g03280058'): [1],\n",
       " ('u42208082', 'g07895907'): [-1],\n",
       " ('u91855861', 'g51283481'): [1],\n",
       " ('u54624084', 'g96198443'): [1],\n",
       " ('u26858759', 'g34122842'): [-1],\n",
       " ('u83918172', 'g17804798'): [-1],\n",
       " ('u49960824', 'g53666531'): [1],\n",
       " ('u32720476', 'g36841558'): [-1],\n",
       " ('u44337325', 'g17514824'): [-1],\n",
       " ('u11415212', 'g03465503'): [1],\n",
       " ('u51986373', 'g05463839'): [-1],\n",
       " ('u73883910', 'g10946181'): [-1],\n",
       " ('u55854800', 'g70274773'): [-1],\n",
       " ('u69159654', 'g89465021'): [-1],\n",
       " ('u97524202', 'g17612425'): [1],\n",
       " ('u93652398', 'g22386746'): [1],\n",
       " ('u92774045', 'g09572072'): [-1],\n",
       " ('u59988770', 'g11862712'): [1],\n",
       " ('u80947479', 'g36471550'): [1],\n",
       " ('u34386088', 'g25195707'): [-1],\n",
       " ('u17224257', 'g11919936'): [-1],\n",
       " ('u48311027', 'g10773791'): [1],\n",
       " ('u52496811', 'g89809648'): [1],\n",
       " ('u22376696', 'g11473691'): [-1],\n",
       " ('u54173124', 'g97784906'): [1],\n",
       " ('u28941486', 'g26730287'): [-1],\n",
       " ('u47403227', 'g46950698'): [1],\n",
       " ('u12891480', 'g40499587'): [1],\n",
       " ('u97764793', 'g67221114'): [-1],\n",
       " ('u11194965', 'g35331676'): [-1],\n",
       " ('u95113472', 'g83142952'): [-1],\n",
       " ('u03757196', 'g82668863'): [1],\n",
       " ('u00134864', 'g57843499'): [-1],\n",
       " ('u00874815', 'g86565202'): [-1],\n",
       " ('u48780404', 'g71581383'): [-1],\n",
       " ('u58279240', 'g73617529'): [-1],\n",
       " ('u53728448', 'g17218685'): [-1],\n",
       " ('u85252845', 'g51770536'): [1],\n",
       " ('u53095821', 'g04025903'): [-1],\n",
       " ('u20853281', 'g34193208'): [-1],\n",
       " ('u54308430', 'g36958384'): [1],\n",
       " ('u16579434', 'g71312034'): [1],\n",
       " ('u51270439', 'g37198629'): [1],\n",
       " ('u49621496', 'g11181397'): [-1],\n",
       " ('u64783960', 'g57976450'): [-1],\n",
       " ('u17759890', 'g95916447'): [-1],\n",
       " ('u63229947', 'g05982385'): [1],\n",
       " ('u64280940', 'g43636148'): [-1],\n",
       " ('u65636202', 'g53113508'): [-1],\n",
       " ('u27508534', 'g40551467'): [1],\n",
       " ('u30064155', 'g66324364'): [-1],\n",
       " ('u25000916', 'g96187396'): [1],\n",
       " ('u72476497', 'g16158766'): [-1],\n",
       " ('u43031841', 'g12579338'): [1],\n",
       " ('u05581149', 'g60949442'): [1],\n",
       " ('u04613617', 'g67463933'): [-1],\n",
       " ('u50474220', 'g87749248'): [1],\n",
       " ('u29321637', 'g17807252'): [1],\n",
       " ('u96746119', 'g27545941'): [-1],\n",
       " ('u97040079', 'g09964073'): [-1],\n",
       " ('u93197231', 'g15714062'): [-1],\n",
       " ('u66436749', 'g35322304'): [-1],\n",
       " ('u11233362', 'g61941054'): [-1],\n",
       " ('u15542795', 'g69213131'): [-1],\n",
       " ('u71939463', 'g73495588'): [-1],\n",
       " ('u07709944', 'g93275053'): [-1],\n",
       " ('u17444308', 'g61264440'): [1],\n",
       " ('u71069985', 'g54342851'): [1],\n",
       " ('u20316991', 'g47290851'): [-1],\n",
       " ('u75142913', 'g61574690'): [1],\n",
       " ('u32377855', 'g59317800'): [-1],\n",
       " ('u61208117', 'g74380807'): [1],\n",
       " ('u32661839', 'g77859458'): [1],\n",
       " ('u11615113', 'g47087082'): [-1],\n",
       " ('u28472852', 'g46932837'): [-1],\n",
       " ('u02675249', 'g16087475'): [1],\n",
       " ('u77655643', 'g23106667'): [1],\n",
       " ('u93450281', 'g66197269'): [-1],\n",
       " ('u54615544', 'g66187454'): [-1],\n",
       " ('u92894715', 'g52756366'): [1],\n",
       " ('u82152797', 'g22927590'): [-1],\n",
       " ('u85063575', 'g28652141'): [-1],\n",
       " ('u55294812', 'g84367501'): [1],\n",
       " ('u63242826', 'g58014324'): [1],\n",
       " ('u12743334', 'g51234623'): [-1],\n",
       " ('u36610257', 'g10406824'): [1],\n",
       " ('u48341125', 'g65773934'): [-1],\n",
       " ('u47504384', 'g22136822'): [-1],\n",
       " ('u42961245', 'g11225866'): [-1],\n",
       " ('u24528184', 'g11862712'): [1],\n",
       " ('u77351829', 'g79499736'): [1],\n",
       " ('u68383845', 'g77247985'): [-1],\n",
       " ('u88163092', 'g58025004'): [1],\n",
       " ('u67811014', 'g11862712'): [1],\n",
       " ('u54045913', 'g39845845'): [1],\n",
       " ('u50752235', 'g54858064'): [-1],\n",
       " ('u09833175', 'g03916495'): [1],\n",
       " ('u28227898', 'g35870742'): [-1],\n",
       " ('u31393471', 'g53078416'): [-1],\n",
       " ('u97714691', 'g33893277'): [-1],\n",
       " ('u64787931', 'g19856409'): [1],\n",
       " ('u19679270', 'g21101440'): [-1],\n",
       " ('u87181283', 'g33823931'): [1],\n",
       " ('u42166729', 'g46602286'): [-1],\n",
       " ('u67332556', 'g35149166'): [1],\n",
       " ('u42439750', 'g06177547'): [1],\n",
       " ('u71532684', 'g63750844'): [-1],\n",
       " ('u48087366', 'g51770536'): [1],\n",
       " ('u50987399', 'g16073667'): [-1],\n",
       " ('u89127451', 'g68047320'): [1],\n",
       " ('u62414810', 'g88406710'): [1],\n",
       " ('u20565215', 'g65905047'): [-1],\n",
       " ('u67572244', 'g00187437'): [-1],\n",
       " ('u63484823', 'g92454558'): [-1],\n",
       " ('u05015710', 'g51181091'): [-1],\n",
       " ('u72474436', 'g94547789'): [1],\n",
       " ('u89568898', 'g11075424'): [1],\n",
       " ('u93655272', 'g79904092'): [1],\n",
       " ('u25042283', 'g10773791'): [1],\n",
       " ('u57035589', 'g45232069'): [1],\n",
       " ('u15010009', 'g11075424'): [-1],\n",
       " ('u82755291', 'g99526401'): [-1],\n",
       " ('u37103371', 'g52454443'): [-1],\n",
       " ('u06631135', 'g34836849'): [1],\n",
       " ('u82556897', 'g75228197'): [1],\n",
       " ('u21551385', 'g83425645'): [1],\n",
       " ('u05202684', 'g48512616'): [-1],\n",
       " ('u88835772', 'g59442626'): [1],\n",
       " ('u14702336', 'g08511321'): [1],\n",
       " ('u01154477', 'g05107555'): [-1],\n",
       " ('u84042893', 'g85605126'): [1],\n",
       " ('u68343562', 'g61225634'): [-1],\n",
       " ('u09621573', 'g18827702'): [1],\n",
       " ('u42411555', 'g82621570'): [1],\n",
       " ('u38064594', 'g23106667'): [-1],\n",
       " ('u55659468', 'g65052090'): [-1],\n",
       " ('u51504468', 'g98792097'): [1],\n",
       " ...}"
      ]
     },
     "execution_count": 197,
     "metadata": {},
     "output_type": "execute_result"
    }
   ],
   "source": [
    "ratingDict"
   ]
  },
  {
   "cell_type": "code",
   "execution_count": 202,
   "id": "5325d790",
   "metadata": {},
   "outputs": [],
   "source": [
    "ratingDict = {}\n",
    "\n",
    "for d in dataset:\n",
    "    u,i = d['userID'], d['gameID']\n",
    "    lab = [1 if (d['hours'] > globalMedian) else -1] # Set the label based on a rule\n",
    "    ratingDict[(u,i)] = lab\n",
    "    usersPerItem[i].add(u)\n",
    "    itemsPerUser[i].add(i)"
   ]
  },
  {
   "cell_type": "code",
   "execution_count": 205,
   "id": "52221556",
   "metadata": {},
   "outputs": [],
   "source": [
    "def Cosine(i1, i2):\n",
    "    u1 =usersPerItem[i1]\n",
    "    u2 =usersPerItem[i2]\n",
    "    \n",
    "    inter = u1.intersection(u2)\n",
    "    \n",
    "    dot = sum(ratingDict[(u,i1)] * ratingDict[(u,i2)] for u in inter)\n",
    "    \n",
    "    norm1 = np.sqrt(sum(ratingDict[(u,i1)])**2 for u in u1)\n",
    "    norm2 = np.sqrt(sum(ratingDict[(u,i1)])**2 for u in u2)\n",
    "    if norm1 == 0 or norm2 == 0: \n",
    "        return 0\n",
    "    else :\n",
    "        return dot/ (norm1*norm2)"
   ]
  },
  {
   "cell_type": "code",
   "execution_count": 206,
   "id": "55c82dbc",
   "metadata": {},
   "outputs": [
    {
     "ename": "TypeError",
     "evalue": "unhashable type: 'set'",
     "output_type": "error",
     "traceback": [
      "\u001b[0;31m---------------------------------------------------------------------------\u001b[0m",
      "\u001b[0;31mTypeError\u001b[0m                                 Traceback (most recent call last)",
      "\u001b[0;32m/var/folders/rp/mtyztnnd6p35kq9b5_xbdn7c0000gn/T/ipykernel_76055/745295000.py\u001b[0m in \u001b[0;36m<module>\u001b[0;34m\u001b[0m\n\u001b[0;32m----> 1\u001b[0;31m \u001b[0mms\u001b[0m \u001b[0;34m=\u001b[0m \u001b[0mmostSimilar14\u001b[0m\u001b[0;34m(\u001b[0m\u001b[0mdataset\u001b[0m\u001b[0;34m[\u001b[0m\u001b[0;36m0\u001b[0m\u001b[0;34m]\u001b[0m\u001b[0;34m[\u001b[0m\u001b[0;34m'gameID'\u001b[0m\u001b[0;34m]\u001b[0m\u001b[0;34m,\u001b[0m \u001b[0mCosine\u001b[0m\u001b[0;34m,\u001b[0m \u001b[0;36m10\u001b[0m\u001b[0;34m)\u001b[0m\u001b[0;34m\u001b[0m\u001b[0;34m\u001b[0m\u001b[0m\n\u001b[0m\u001b[1;32m      2\u001b[0m \u001b[0mprint\u001b[0m\u001b[0;34m(\u001b[0m\u001b[0mms\u001b[0m\u001b[0;34m)\u001b[0m\u001b[0;34m\u001b[0m\u001b[0;34m\u001b[0m\u001b[0m\n",
      "\u001b[0;32m/var/folders/rp/mtyztnnd6p35kq9b5_xbdn7c0000gn/T/ipykernel_76055/1198493052.py\u001b[0m in \u001b[0;36mmostSimilar14\u001b[0;34m(i, func, N)\u001b[0m\n\u001b[1;32m      4\u001b[0m     \u001b[0;32mfor\u001b[0m \u001b[0mi2\u001b[0m \u001b[0;32min\u001b[0m \u001b[0musersPerItem\u001b[0m\u001b[0;34m:\u001b[0m\u001b[0;34m\u001b[0m\u001b[0;34m\u001b[0m\u001b[0m\n\u001b[1;32m      5\u001b[0m         \u001b[0;32mif\u001b[0m \u001b[0mi2\u001b[0m \u001b[0;34m==\u001b[0m \u001b[0mi\u001b[0m\u001b[0;34m:\u001b[0m \u001b[0;32mcontinue\u001b[0m\u001b[0;34m\u001b[0m\u001b[0;34m\u001b[0m\u001b[0m\n\u001b[0;32m----> 6\u001b[0;31m         \u001b[0msim\u001b[0m \u001b[0;34m=\u001b[0m \u001b[0mfunc\u001b[0m\u001b[0;34m(\u001b[0m\u001b[0musers\u001b[0m\u001b[0;34m,\u001b[0m \u001b[0musersPerItem\u001b[0m\u001b[0;34m[\u001b[0m\u001b[0mi2\u001b[0m\u001b[0;34m]\u001b[0m\u001b[0;34m)\u001b[0m\u001b[0;34m\u001b[0m\u001b[0;34m\u001b[0m\u001b[0m\n\u001b[0m\u001b[1;32m      7\u001b[0m         \u001b[0msimilarities\u001b[0m\u001b[0;34m.\u001b[0m\u001b[0mappend\u001b[0m\u001b[0;34m(\u001b[0m\u001b[0;34m(\u001b[0m\u001b[0msim\u001b[0m\u001b[0;34m,\u001b[0m\u001b[0mi2\u001b[0m\u001b[0;34m)\u001b[0m\u001b[0;34m)\u001b[0m\u001b[0;34m\u001b[0m\u001b[0;34m\u001b[0m\u001b[0m\n\u001b[1;32m      8\u001b[0m     \u001b[0msimilarities\u001b[0m\u001b[0;34m.\u001b[0m\u001b[0msort\u001b[0m\u001b[0;34m(\u001b[0m\u001b[0mreverse\u001b[0m\u001b[0;34m=\u001b[0m\u001b[0;32mTrue\u001b[0m\u001b[0;34m)\u001b[0m\u001b[0;34m\u001b[0m\u001b[0;34m\u001b[0m\u001b[0m\n",
      "\u001b[0;32m/var/folders/rp/mtyztnnd6p35kq9b5_xbdn7c0000gn/T/ipykernel_76055/1369866824.py\u001b[0m in \u001b[0;36mCosine\u001b[0;34m(i1, i2)\u001b[0m\n\u001b[1;32m      1\u001b[0m \u001b[0;32mdef\u001b[0m \u001b[0mCosine\u001b[0m\u001b[0;34m(\u001b[0m\u001b[0mi1\u001b[0m\u001b[0;34m,\u001b[0m \u001b[0mi2\u001b[0m\u001b[0;34m)\u001b[0m\u001b[0;34m:\u001b[0m\u001b[0;34m\u001b[0m\u001b[0;34m\u001b[0m\u001b[0m\n\u001b[0;32m----> 2\u001b[0;31m     \u001b[0mu1\u001b[0m \u001b[0;34m=\u001b[0m\u001b[0musersPerItem\u001b[0m\u001b[0;34m[\u001b[0m\u001b[0mi1\u001b[0m\u001b[0;34m]\u001b[0m\u001b[0;34m\u001b[0m\u001b[0;34m\u001b[0m\u001b[0m\n\u001b[0m\u001b[1;32m      3\u001b[0m     \u001b[0mu2\u001b[0m \u001b[0;34m=\u001b[0m\u001b[0musersPerItem\u001b[0m\u001b[0;34m[\u001b[0m\u001b[0mi2\u001b[0m\u001b[0;34m]\u001b[0m\u001b[0;34m\u001b[0m\u001b[0;34m\u001b[0m\u001b[0m\n\u001b[1;32m      4\u001b[0m \u001b[0;34m\u001b[0m\u001b[0m\n\u001b[1;32m      5\u001b[0m     \u001b[0minter\u001b[0m \u001b[0;34m=\u001b[0m \u001b[0mu1\u001b[0m\u001b[0;34m.\u001b[0m\u001b[0mintersection\u001b[0m\u001b[0;34m(\u001b[0m\u001b[0mu2\u001b[0m\u001b[0;34m)\u001b[0m\u001b[0;34m\u001b[0m\u001b[0;34m\u001b[0m\u001b[0m\n",
      "\u001b[0;31mTypeError\u001b[0m: unhashable type: 'set'"
     ]
    }
   ],
   "source": [
    "ms = mostSimilar14(dataset[0]['gameID'], Cosine, 10)\n",
    "print(ms)"
   ]
  },
  {
   "cell_type": "code",
   "execution_count": 194,
   "id": "b6553bd4",
   "metadata": {},
   "outputs": [
    {
     "name": "stdout",
     "output_type": "stream",
     "text": [
      "0.0\n"
     ]
    }
   ],
   "source": [
    "print(ms[-1][0])"
   ]
  },
  {
   "cell_type": "code",
   "execution_count": 192,
   "id": "5fed0ed3",
   "metadata": {},
   "outputs": [],
   "source": [
    "answers['Q14'] = [ms[0][0], ms[-1][0]]"
   ]
  },
  {
   "cell_type": "code",
   "execution_count": 193,
   "id": "8308daf9",
   "metadata": {},
   "outputs": [],
   "source": [
    "assertFloatList(answers['Q14'], 2)"
   ]
  },
  {
   "cell_type": "code",
   "execution_count": null,
   "id": "61c3358a",
   "metadata": {},
   "outputs": [],
   "source": [
    "### Question 15"
   ]
  },
  {
   "cell_type": "code",
   "execution_count": null,
   "id": "63a5a945",
   "metadata": {},
   "outputs": [],
   "source": [
    "ratingDict = {}\n",
    "\n",
    "for d in dataset:\n",
    "    u,i = d['userID'], d['gameID']\n",
    "    lab = # Set the label based on a rule\n",
    "    ratingDict[(u,i)] = lab"
   ]
  },
  {
   "cell_type": "code",
   "execution_count": null,
   "id": "95406dc3",
   "metadata": {},
   "outputs": [],
   "source": [
    "ms = mostSimilar14(dataset[0]['gameID'], Cosine, 10)"
   ]
  },
  {
   "cell_type": "code",
   "execution_count": null,
   "id": "ae95f22d",
   "metadata": {},
   "outputs": [],
   "source": [
    "answers['Q15'] = [ms[0][0], ms[-1][0]]"
   ]
  },
  {
   "cell_type": "code",
   "execution_count": null,
   "id": "eac38017",
   "metadata": {},
   "outputs": [],
   "source": [
    "assertFloatList(answers['Q15'], 2)"
   ]
  },
  {
   "cell_type": "code",
   "execution_count": 195,
   "id": "436d2691",
   "metadata": {},
   "outputs": [],
   "source": [
    "f = open(\"answers_midterm.txt\", 'w')\n",
    "f.write(str(answers) + '\\n')\n",
    "f.close()"
   ]
  },
  {
   "cell_type": "code",
   "execution_count": null,
   "id": "b53acc41",
   "metadata": {},
   "outputs": [],
   "source": []
  }
 ],
 "metadata": {
  "kernelspec": {
   "display_name": "Python 3 (ipykernel)",
   "language": "python",
   "name": "python3"
  },
  "language_info": {
   "codemirror_mode": {
    "name": "ipython",
    "version": 3
   },
   "file_extension": ".py",
   "mimetype": "text/x-python",
   "name": "python",
   "nbconvert_exporter": "python",
   "pygments_lexer": "ipython3",
   "version": "3.9.13"
  }
 },
 "nbformat": 4,
 "nbformat_minor": 5
}
