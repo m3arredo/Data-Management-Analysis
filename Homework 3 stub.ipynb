{
 "cells": [
  {
   "cell_type": "code",
   "execution_count": 219,
   "id": "0f55c023",
   "metadata": {},
   "outputs": [],
   "source": [
    "import gzip\n",
    "from collections import defaultdict\n",
    "import math\n",
    "import scipy.optimize\n",
    "from sklearn import svm\n",
    "import numpy\n",
    "import string\n",
    "import random\n",
    "import string\n",
    "from sklearn import linear_model\n",
    "from sklearn.metrics import accuracy_score\n",
    "import numpy as np"
   ]
  },
  {
   "cell_type": "code",
   "execution_count": 2,
   "id": "005c1a02-c5bf-4241-8d00-dc260d36f08f",
   "metadata": {},
   "outputs": [],
   "source": [
    "def assertFloat(x):\n",
    "    assert type(float(x)) == float\n",
    "\n",
    "def assertFloatList(items, N):\n",
    "    assert len(items) == N\n",
    "    assert [type(float(x)) for x in items] == [float]*N"
   ]
  },
  {
   "cell_type": "code",
   "execution_count": 3,
   "id": "cb2abe72",
   "metadata": {},
   "outputs": [],
   "source": [
    "def readGz(path):\n",
    "    for l in gzip.open(path, 'rt'):\n",
    "        yield eval(l)"
   ]
  },
  {
   "cell_type": "code",
   "execution_count": 4,
   "id": "e54fa48f",
   "metadata": {},
   "outputs": [],
   "source": [
    "def readJSON(path):\n",
    "    f = gzip.open(path, 'rt')\n",
    "    f.readline()\n",
    "    for l in f:\n",
    "        d = eval(l)\n",
    "        u = d['userID']\n",
    "        g = d['gameID']\n",
    "        yield u,g,d"
   ]
  },
  {
   "cell_type": "code",
   "execution_count": 5,
   "id": "c215087c",
   "metadata": {},
   "outputs": [],
   "source": [
    "answers = {}"
   ]
  },
  {
   "cell_type": "code",
   "execution_count": 6,
   "id": "27aec54d",
   "metadata": {},
   "outputs": [],
   "source": [
    "# Some data structures that will be useful"
   ]
  },
  {
   "cell_type": "code",
   "execution_count": 7,
   "id": "e72d24da",
   "metadata": {},
   "outputs": [],
   "source": [
    "allHours = []\n",
    "for l in readJSON(\"train.json.gz\"):\n",
    "    allHours.append(l)"
   ]
  },
  {
   "cell_type": "code",
   "execution_count": 8,
   "id": "462bd9bd-b657-4571-8fef-eee11d852099",
   "metadata": {},
   "outputs": [],
   "source": [
    "hoursTrain = allHours[:165000]\n",
    "hoursValid = allHours[165000:]"
   ]
  },
  {
   "cell_type": "code",
   "execution_count": 9,
   "id": "8c0f95d6",
   "metadata": {},
   "outputs": [
    {
     "data": {
      "text/plain": [
       "('u70666506',\n",
       " 'g49368897',\n",
       " {'userID': 'u70666506',\n",
       "  'early_access': False,\n",
       "  'hours': 63.5,\n",
       "  'hours_transformed': 6.011227255423254,\n",
       "  'found_funny': 1,\n",
       "  'text': 'If you want to sit in queue for 10-20min and have 140 ping then this game is perfect for you :)',\n",
       "  'gameID': 'g49368897',\n",
       "  'user_id': '76561198030408772',\n",
       "  'date': '2017-05-20'})"
      ]
     },
     "execution_count": 9,
     "metadata": {},
     "output_type": "execute_result"
    }
   ],
   "source": [
    "hoursTrain[0]"
   ]
  },
  {
   "cell_type": "code",
   "execution_count": 10,
   "id": "c58fd9e5-0ba6-4fef-83c1-315503d75348",
   "metadata": {},
   "outputs": [],
   "source": [
    "##################################################\n",
    "# Play prediction                                #\n",
    "##################################################"
   ]
  },
  {
   "cell_type": "code",
   "execution_count": 11,
   "id": "4e06cc33-bc60-4b45-be63-8033c17d9fe6",
   "metadata": {},
   "outputs": [],
   "source": [
    "# Any other preprocessing..."
   ]
  },
  {
   "cell_type": "code",
   "execution_count": 12,
   "id": "12f46fd0-3abb-4f46-8a8b-9cf37efa99ee",
   "metadata": {},
   "outputs": [],
   "source": [
    "### Question 1"
   ]
  },
  {
   "cell_type": "code",
   "execution_count": 13,
   "id": "f16b038b",
   "metadata": {},
   "outputs": [],
   "source": [
    "gameCount = defaultdict(int)\n",
    "totalPlayed = 0\n",
    "\n",
    "for user,game,_ in readJSON(\"train.json.gz\"):\n",
    "  gameCount[game] += 1\n",
    "  totalPlayed += 1"
   ]
  },
  {
   "cell_type": "code",
   "execution_count": 14,
   "id": "78506c5b",
   "metadata": {},
   "outputs": [],
   "source": [
    "users = set()\n",
    "games = set() \n",
    "\n",
    "for d in allHours : \n",
    "    user_id , game_id , _ = d \n",
    "    users.add(user_id)\n",
    "    games.add(game_id)"
   ]
  },
  {
   "cell_type": "code",
   "execution_count": 15,
   "id": "655d0f2e",
   "metadata": {},
   "outputs": [],
   "source": [
    "gamesPerUser = defaultdict(set)\n",
    "usersPerGame = defaultdict(set)\n",
    "\n",
    "for user, game , _ in hoursTrain:\n",
    "    gamesPerUser[user].add(game)\n",
    "    usersPerGame[game].add(user)"
   ]
  },
  {
   "cell_type": "code",
   "execution_count": 16,
   "id": "75b99533",
   "metadata": {},
   "outputs": [],
   "source": [
    "validation = []\n",
    "\n",
    "for u, g , _ in hoursValid: \n",
    "    validation.append((u,g,1))"
   ]
  },
  {
   "cell_type": "code",
   "execution_count": 17,
   "id": "a8cf91dd",
   "metadata": {},
   "outputs": [],
   "source": [
    "for u , g, _ in hoursValid: \n",
    "    unplayed = list(games - gamesPerUser[u])\n",
    "    if unplayed :\n",
    "        negative = random.choice(unplayed)\n",
    "        validation.append((u , negative , 0))      "
   ]
  },
  {
   "cell_type": "code",
   "execution_count": 18,
   "id": "54264dcf",
   "metadata": {},
   "outputs": [],
   "source": [
    "#50th percentile \n",
    "mostPopular = [(gameCount[x], x ) for x in gameCount]\n",
    "mostPopular.sort()\n",
    "mostPopular.reverse()"
   ]
  },
  {
   "cell_type": "code",
   "execution_count": 19,
   "id": "b582f38d",
   "metadata": {},
   "outputs": [
    {
     "data": {
      "text/plain": [
       "(1092, 'g10773791')"
      ]
     },
     "execution_count": 19,
     "metadata": {},
     "output_type": "execute_result"
    }
   ],
   "source": [
    "mostPopular[0]"
   ]
  },
  {
   "cell_type": "code",
   "execution_count": 20,
   "id": "38758500",
   "metadata": {},
   "outputs": [],
   "source": [
    "return1 = set()\n",
    "count = 0 \n",
    "\n",
    "for ic, i in mostPopular:\n",
    "    count += ic \n",
    "    return1.add(i)\n",
    "    if count > totalPlayed //2:\n",
    "        break"
   ]
  },
  {
   "cell_type": "code",
   "execution_count": 21,
   "id": "c434aca2",
   "metadata": {},
   "outputs": [],
   "source": [
    "correct_pred = 0\n",
    "for u, g , playedOrNot in validation :\n",
    "    predicted = 1 if g in return1 else 0 \n",
    "    if predicted == playedOrNot:\n",
    "        correct_pred +=1"
   ]
  },
  {
   "cell_type": "code",
   "execution_count": 22,
   "id": "c9b27621",
   "metadata": {},
   "outputs": [
    {
     "name": "stdout",
     "output_type": "stream",
     "text": [
      "0.6817181718171818\n"
     ]
    }
   ],
   "source": [
    "accuracy = correct_pred / len(validation)\n",
    "print(accuracy)"
   ]
  },
  {
   "cell_type": "code",
   "execution_count": 23,
   "id": "17cb78c4-5841-46a9-af75-cc347d4f39c0",
   "metadata": {},
   "outputs": [],
   "source": [
    "answers['Q1'] = accuracy"
   ]
  },
  {
   "cell_type": "code",
   "execution_count": 24,
   "id": "158deaa6-d294-4873-b10f-85f883d833d8",
   "metadata": {},
   "outputs": [],
   "source": [
    "assertFloat(answers['Q1'])"
   ]
  },
  {
   "cell_type": "code",
   "execution_count": 25,
   "id": "f843a2a7-57e5-4947-a513-ba8fa35f8cb6",
   "metadata": {},
   "outputs": [],
   "source": [
    "### Question 2"
   ]
  },
  {
   "cell_type": "code",
   "execution_count": 26,
   "id": "47c2b474-700f-4d37-be1b-3a704ad2968b",
   "metadata": {},
   "outputs": [],
   "source": [
    "# Improved strategy\n"
   ]
  },
  {
   "cell_type": "code",
   "execution_count": 27,
   "id": "4a14a86a",
   "metadata": {},
   "outputs": [],
   "source": [
    "best_threshold = None\n",
    "best_acc = 0\n",
    "return_t = set()\n",
    "\n",
    "for p in range(1, 100):  # Best percentage\n",
    "    threshold = totalPlayed * (p / 100)\n",
    "    count = 0\n",
    "    \n",
    "    for ic, i in mostPopular:\n",
    "        count += ic\n",
    "        return_t.add(i)\n",
    "        if count > threshold:\n",
    "            break\n",
    "\n",
    "    correct_pred = 0\n",
    "    for u, g, playedOrNot in validation:\n",
    "        predicted = 1 if g in return_t else 0\n",
    "        if predicted == playedOrNot:\n",
    "            correct_pred += 1\n",
    "\n",
    "    acc = correct_pred / len(validation)\n",
    "    if acc > best_acc:\n",
    "        best_acc = acc\n",
    "        best_threshold = p"
   ]
  },
  {
   "cell_type": "code",
   "execution_count": 28,
   "id": "e6eb260f",
   "metadata": {},
   "outputs": [
    {
     "name": "stdout",
     "output_type": "stream",
     "text": [
      "0.7015701570157016 64\n"
     ]
    }
   ],
   "source": [
    "print(best_acc, best_threshold)"
   ]
  },
  {
   "cell_type": "code",
   "execution_count": 29,
   "id": "06a69839-1423-4160-80dc-451eccf6b82f",
   "metadata": {},
   "outputs": [],
   "source": [
    "answers['Q2'] = best_acc, best_threshold"
   ]
  },
  {
   "cell_type": "code",
   "execution_count": 30,
   "id": "44ddabf1-bf18-428d-91b2-82702133cfb1",
   "metadata": {},
   "outputs": [],
   "source": [
    "assertFloatList(answers['Q2'], 2)"
   ]
  },
  {
   "cell_type": "code",
   "execution_count": 31,
   "id": "8c5c5e95-1c35-4f00-9fac-5a1d3bec338b",
   "metadata": {},
   "outputs": [],
   "source": [
    "### Question 3/4"
   ]
  },
  {
   "cell_type": "code",
   "execution_count": 32,
   "id": "0e7cca75-8730-459c-ad27-d827d65856e2",
   "metadata": {},
   "outputs": [],
   "source": [
    "def Jaccard(s1, s2):\n",
    "    numer = len(set(s1).intersection(set(s2) ))\n",
    "    denom =len(set(s1).union(set(s2)) )\n",
    "    return numer/denom"
   ]
  },
  {
   "cell_type": "code",
   "execution_count": 121,
   "id": "05ca0b9d",
   "metadata": {},
   "outputs": [
    {
     "data": {
      "text/plain": [
       "13576"
      ]
     },
     "execution_count": 121,
     "metadata": {},
     "output_type": "execute_result"
    }
   ],
   "source": [
    "threshold = 0.73\n",
    "predictions = []\n",
    "\n",
    "for u, g, _ in validation:\n",
    "    max_sim = 0\n",
    "    for game in gamesPerUser[u]:\n",
    "        if game == g:continue\n",
    "        if u in users:\n",
    "            similarity = Jaccard(g, game)\n",
    "        else: \n",
    "            similarity = 0  \n",
    "        max_sim = max(similarity, max_sim)    \n",
    "        predicted_played = 1 if max_sim > threshold else 0\n",
    "    predictions.append(predicted_played)\n",
    "\n",
    "sum(predictions)\n"
   ]
  },
  {
   "cell_type": "code",
   "execution_count": 122,
   "id": "2d5e2f2f",
   "metadata": {},
   "outputs": [
    {
     "name": "stdout",
     "output_type": "stream",
     "text": [
      "0.6788678867886788\n"
     ]
    }
   ],
   "source": [
    "accuracy3 = sum(predictions) /len(validation)\n",
    "print(accuracy3)"
   ]
  },
  {
   "cell_type": "code",
   "execution_count": 156,
   "id": "e37ee1b0",
   "metadata": {},
   "outputs": [],
   "source": [
    "return2 = set()\n",
    "count = 0 \n",
    "\n",
    "for ic, i in mostPopular:\n",
    "    count += ic \n",
    "    return2.add(i)\n",
    "    if count > (totalPlayed * .7):\n",
    "        break"
   ]
  },
  {
   "cell_type": "code",
   "execution_count": 163,
   "id": "6dcec225",
   "metadata": {},
   "outputs": [
    {
     "data": {
      "text/plain": [
       "13622"
      ]
     },
     "execution_count": 163,
     "metadata": {},
     "output_type": "execute_result"
    }
   ],
   "source": [
    "threshold = 0.45\n",
    "predictions = []\n",
    "\n",
    "for u, g, _ in validation:\n",
    "    max_sim = 0\n",
    "    for game in gamesPerUser[u]:\n",
    "        if game == g:continue\n",
    "        if u in users:\n",
    "            similarity = Jaccard(g, game)\n",
    "        else: \n",
    "            similarity = 0  \n",
    "        max_sim = max(similarity, max_sim)    \n",
    "        predicted_played = 1 if max_sim > threshold and game in return2 else 0\n",
    "    predictions.append(predicted_played)\n",
    "\n",
    "sum(predictions)\n",
    "\n"
   ]
  },
  {
   "cell_type": "code",
   "execution_count": 158,
   "id": "9bc34519",
   "metadata": {},
   "outputs": [
    {
     "name": "stdout",
     "output_type": "stream",
     "text": [
      "0.6811681168116812\n"
     ]
    }
   ],
   "source": [
    "accuracy4 = sum(predictions) /len(validation)\n",
    "print(accuracy4)"
   ]
  },
  {
   "cell_type": "code",
   "execution_count": 159,
   "id": "6180d5a7-fcaa-4208-9e2e-0babf0ab854d",
   "metadata": {},
   "outputs": [],
   "source": [
    "answers['Q3'] = accuracy3\n",
    "answers['Q4'] = accuracy4"
   ]
  },
  {
   "cell_type": "code",
   "execution_count": 160,
   "id": "6ac29b20-93d8-467e-9343-7363ae7c8071",
   "metadata": {},
   "outputs": [],
   "source": [
    "assertFloat(answers['Q3'])\n",
    "assertFloat(answers['Q4'])"
   ]
  },
  {
   "cell_type": "code",
   "execution_count": 166,
   "id": "3a4e26ec",
   "metadata": {},
   "outputs": [],
   "source": [
    "predictions = open(\"predictions_Played.csv\", 'w')\n",
    "for l in open(\"pairs_Played.csv\"):\n",
    "    if l.startswith(\"userID\"):\n",
    "        predictions.write(l)\n",
    "        continue\n",
    "    \n",
    "    u,g = l.strip().split(',')\n",
    "    max_sim = 0\n",
    "    for game in gamesPerUser[u]:\n",
    "        if game == g:continue\n",
    "        if u in users:\n",
    "            similarity = Jaccard(g, game)\n",
    "        else: \n",
    "            similarity = 0  \n",
    "        max_sim = max(similarity, max_sim)  \n",
    "        if (max_sim > threshold) and (g in return2):\n",
    "            predictions.write(u + ',' + g + \",1\\n\")\n",
    "        else:\n",
    "            predictions.write(u + ',' + g + \",0\\n\")\n",
    "\n",
    "predictions.close()"
   ]
  },
  {
   "cell_type": "code",
   "execution_count": 167,
   "id": "dbfd2cbf-b515-4f70-b613-e1248c5d6020",
   "metadata": {},
   "outputs": [],
   "source": [
    "answers['Q5'] = \"I confirm that I have uploaded an assignment submission to gradescope\""
   ]
  },
  {
   "cell_type": "code",
   "execution_count": null,
   "id": "c82a7a00",
   "metadata": {},
   "outputs": [],
   "source": [
    "##################################################\n",
    "# Hours played prediction                        #\n",
    "##################################################"
   ]
  },
  {
   "cell_type": "code",
   "execution_count": 404,
   "id": "772dd561-ceae-4c2e-9347-7ba3eb2dd650",
   "metadata": {},
   "outputs": [],
   "source": [
    "trainHours = [r[2]['hours_transformed'] for r in hoursTrain]\n",
    "globalAverage = sum(trainHours) * 1.0 / len(trainHours)"
   ]
  },
  {
   "cell_type": "code",
   "execution_count": 440,
   "id": "beddb1d9-e61b-4903-b557-f04810fd7c68",
   "metadata": {},
   "outputs": [],
   "source": [
    "hoursPerUser = defaultdict(set)\n",
    "hoursPerItem = defaultdict(set)\n",
    "\n",
    "for user, game , d in hoursTrain:\n",
    "    hoursPerUser[user].add((game, d['hours_transformed']))\n",
    "    hoursPerItem[game].add((user, d['hours_transformed']))"
   ]
  },
  {
   "cell_type": "code",
   "execution_count": 441,
   "id": "8aaa2a4a",
   "metadata": {},
   "outputs": [],
   "source": [
    "def MSE(predictions, labels):\n",
    "    differences = [(x-y)**2 for x,y in zip(predictions,labels)]\n",
    "    return sum(differences) / len(differences)"
   ]
  },
  {
   "cell_type": "code",
   "execution_count": 442,
   "id": "4b95a9e5-b36f-4883-befb-6dedfd833dcb",
   "metadata": {},
   "outputs": [],
   "source": [
    "### Question 6"
   ]
  },
  {
   "cell_type": "code",
   "execution_count": 443,
   "id": "d4b39158-3b06-4057-bfb7-5ef1d547e3b3",
   "metadata": {},
   "outputs": [],
   "source": [
    "betaU = {}\n",
    "betaI = {}\n",
    "for u in hoursPerUser:\n",
    "    betaU[u] = 0\n",
    "\n",
    "for g in hoursPerItem:\n",
    "    betaI[g] = 0"
   ]
  },
  {
   "cell_type": "code",
   "execution_count": 444,
   "id": "1fa4660f",
   "metadata": {},
   "outputs": [],
   "source": [
    "Ntrain = len(hoursTrain)\n",
    "nUsers = len(hoursPerUser)\n",
    "nItems = len(hoursPerItem)\n",
    "users = list(hoursPerUser.keys() )\n",
    "items = list(hoursPerItem.keys() )"
   ]
  },
  {
   "cell_type": "code",
   "execution_count": 445,
   "id": "ae174441-3c7e-4b41-8869-7a67b6c61607",
   "metadata": {},
   "outputs": [],
   "source": [
    "alpha = globalAverage # Could initialize anywhere, this is a guess"
   ]
  },
  {
   "cell_type": "code",
   "execution_count": 446,
   "id": "f6f897f1",
   "metadata": {},
   "outputs": [],
   "source": [
    "def iterate(lamb):\n",
    "    for itr in range(1000):\n",
    "        # Calculate alpha\n",
    "        alpha_term = globalAverage\n",
    "        for u, i, r in hoursTrain:\n",
    "            alpha_term +=  r['hours_transformed'] - (betaU[u] + betaI[i])\n",
    "        alpha = alpha_term / Ntrain\n",
    "\n",
    "        # Calculate beta_u\n",
    "        for u in users:\n",
    "            beta_u_term = 0.\n",
    "            for i, r in hoursPerUser[u]:\n",
    "                beta_u_term += r - (alpha+ betaI[i])\n",
    "            betaU[u] = beta_u_term / (lamb + len(gamesPerUser[u]) )\n",
    "\n",
    "        # Calculate beta_i\n",
    "        for i in items:\n",
    "            beta_i_term = 0.\n",
    "            for u, r in hoursPerItem[i]:\n",
    "                beta_i_term += r - (alpha+ betaU[u])\n",
    "            betaI[i] = beta_i_term / (lamb + len(usersPerGame[i]) )\n",
    "        \n",
    "        current_loss = 0.0\n",
    "        for u, i, r in hoursTrain:\n",
    "            current_loss += (r['hours_transformed'] - (alpha + betaU[u] + betaI[i]))**2\n",
    "        current_loss += lamb * (np.sum(np.square(list(betaU.values()))) + np.sum(np.square(list(betaI.values()))))\n",
    "\n",
    "        # Compare current loss with previous loss and stop/continue\n",
    "        if itr > 0 and abs(current_loss - previous_loss) < 1e-5:\n",
    "            break\n",
    "\n",
    "        previous_loss = current_loss\n",
    "\n",
    "    return alpha, betaU, betaI"
   ]
  },
  {
   "cell_type": "code",
   "execution_count": 447,
   "id": "b30d6e7e",
   "metadata": {},
   "outputs": [],
   "source": [
    "alpha, beta_u, beta_i = iterate(1)"
   ]
  },
  {
   "cell_type": "code",
   "execution_count": 448,
   "id": "1eadc37f",
   "metadata": {},
   "outputs": [],
   "source": [
    "beta_u_avg = sum(beta_u[u] for u in beta_u) / len(beta_u)\n",
    "beta_i_avg = sum(beta_i[i] for i in beta_i) / len(beta_i)\n",
    "\n",
    "y_pred = []\n",
    "y_true = []\n",
    "for u, i, r in hoursValid:\n",
    "    beta_u_val = beta_u.get(u, beta_u_avg)\n",
    "    beta_i_val = beta_i.get(i, beta_i_avg)\n",
    "    \n",
    "    val = alpha + beta_u_val + beta_i_val  # TODO: Handle case when u is not in beta_u or i is not in beta_i\n",
    "    y_pred.append(val)\n",
    "    y_true.append(r['hours_transformed'])\n",
    " \n",
    "# Compute MSE\n",
    "ans = MSE(y_pred, y_true)"
   ]
  },
  {
   "cell_type": "code",
   "execution_count": 449,
   "id": "6fd5ecfc",
   "metadata": {},
   "outputs": [],
   "source": [
    "validMSE = (ans)"
   ]
  },
  {
   "cell_type": "code",
   "execution_count": 450,
   "id": "4e604e60",
   "metadata": {},
   "outputs": [
    {
     "name": "stdout",
     "output_type": "stream",
     "text": [
      "3.0073719507152656\n"
     ]
    }
   ],
   "source": [
    "print(validMSE)"
   ]
  },
  {
   "cell_type": "code",
   "execution_count": 451,
   "id": "6534a08d-013e-4353-a12c-b1f2bbed5812",
   "metadata": {},
   "outputs": [],
   "source": [
    "answers['Q6'] = validMSE"
   ]
  },
  {
   "cell_type": "code",
   "execution_count": 452,
   "id": "bc0e3695-682b-4d65-9576-c59795d04930",
   "metadata": {},
   "outputs": [],
   "source": [
    "assertFloat(answers['Q6'])"
   ]
  },
  {
   "cell_type": "code",
   "execution_count": 390,
   "id": "d9d419e4-e8c4-4766-b189-d77fbe608417",
   "metadata": {},
   "outputs": [],
   "source": [
    "### Question 7"
   ]
  },
  {
   "cell_type": "code",
   "execution_count": 391,
   "id": "4a48cc70-1c2c-40df-9843-fea1f287a10e",
   "metadata": {},
   "outputs": [
    {
     "name": "stdout",
     "output_type": "stream",
     "text": [
      "Maximum betaU = u60898505 (5.828516390799736)\n",
      "Maximum betaI = g17604638 (5.513893606177892)\n",
      "Minimum betaU = u13037838 (-3.0057164038915625)\n",
      "Minimum betaI = g84397720 (-2.7915332948802485)\n"
     ]
    }
   ],
   "source": [
    "betaUs = [(betaU[u], u) for u in betaU]\n",
    "betaIs = [(betaI[i], i) for i in betaI]\n",
    "betaUs.sort()\n",
    "betaIs.sort()\n",
    "\n",
    "print(\"Maximum betaU = \" + str(betaUs[-1][1]) + ' (' + str(betaUs[-1][0]) + ')')\n",
    "print(\"Maximum betaI = \" + str(betaIs[-1][1]) + ' (' + str(betaIs[-1][0]) + ')')\n",
    "print(\"Minimum betaU = \" + str(betaUs[0][1]) + ' (' + str(betaUs[0][0]) + ')')\n",
    "print(\"Minimum betaI = \" + str(betaIs[0][1]) + ' (' + str(betaIs[0][0]) + ')')"
   ]
  },
  {
   "cell_type": "code",
   "execution_count": 392,
   "id": "65b17529-ade3-4cdf-a5c1-b17b06e68237",
   "metadata": {},
   "outputs": [],
   "source": [
    "answers['Q7'] = [betaUs[-1][0], betaUs[0][0], betaIs[-1][0], betaIs[0][0]]"
   ]
  },
  {
   "cell_type": "code",
   "execution_count": 393,
   "id": "4eeaf180-3bd8-4acb-aef5-86b044521e56",
   "metadata": {},
   "outputs": [
    {
     "data": {
      "text/plain": [
       "[5.828516390799736,\n",
       " -3.0057164038915625,\n",
       " 5.513893606177892,\n",
       " -2.7915332948802485]"
      ]
     },
     "execution_count": 393,
     "metadata": {},
     "output_type": "execute_result"
    }
   ],
   "source": [
    "answers['Q7']"
   ]
  },
  {
   "cell_type": "code",
   "execution_count": 394,
   "id": "7c9faa5c-2bc1-4d51-ae29-df2d82c9372d",
   "metadata": {},
   "outputs": [],
   "source": [
    "assertFloatList(answers['Q7'], 4)"
   ]
  },
  {
   "cell_type": "code",
   "execution_count": null,
   "id": "c604fd19-2fb8-44bf-82b5-33797f534707",
   "metadata": {},
   "outputs": [],
   "source": [
    "### Question 8"
   ]
  },
  {
   "cell_type": "code",
   "execution_count": 454,
   "id": "30b8cbba-d0ec-46a6-b079-1c9a0e188971",
   "metadata": {},
   "outputs": [],
   "source": [
    "# Better lambda...\n",
    "lambda_values = [0.1, 0.5, 1.0, 2.0, 5.0]\n",
    "best_lambda = None\n",
    "best_validation_error = float('inf')\n",
    "\n",
    "for lamb in lambda_values:\n",
    "    alpha, beta_u, beta_i = iterate(lamb)\n",
    "    beta_u_avg = sum(beta_u[u] for u in beta_u) / len(beta_u)\n",
    "    beta_i_avg = sum(beta_i[i] for i in beta_i) / len(beta_i)\n",
    "\n",
    "    y_pred = []\n",
    "    y_true = [\n",
    "    for u, i, r in hoursValid:\n",
    "        beta_u_val = beta_u.get(u, beta_u_avg)\n",
    "        beta_i_val = beta_i.get(i, beta_i_avg)\n",
    "\n",
    "        val = alpha + beta_u_val + beta_i_val  # TODO: Handle case when u is not in beta_u or i is not in beta_i\n",
    "        y_pred.append(val)\n",
    "        y_true.append(r['hours_transformed'])\n",
    " \n",
    "    ans = MSE(y_pred, y_true)\n",
    "\n",
    "    if ans < best_validation_error:\n",
    "        best_validation_error = ans\n",
    "        best_lambda = lamb"
   ]
  },
  {
   "cell_type": "code",
   "execution_count": 457,
   "id": "fa01029d-a130-4389-9f0c-bf18fb3726f4",
   "metadata": {},
   "outputs": [],
   "source": [
    "validMSE = ans"
   ]
  },
  {
   "cell_type": "code",
   "execution_count": 458,
   "id": "b95c8e49-d120-4367-a20f-a39381776979",
   "metadata": {},
   "outputs": [],
   "source": [
    "answers['Q8'] = (5.0, validMSE)"
   ]
  },
  {
   "cell_type": "code",
   "execution_count": 459,
   "id": "fe2dcb96-86a0-473e-980b-340435715ea8",
   "metadata": {},
   "outputs": [],
   "source": [
    "assertFloatList(answers['Q8'], 2)"
   ]
  },
  {
   "cell_type": "code",
   "execution_count": 461,
   "id": "90a7cd55-1f58-42a5-8c35-4debf80a3e3e",
   "metadata": {},
   "outputs": [],
   "source": [
    "predictions = open(\"HWpredictions_Hours.csv\", 'w')\n",
    "for l in open(\"pairs_Hours.csv\"):\n",
    "    if l.startswith(\"userID\"):\n",
    "        predictions.write(l)\n",
    "        continue\n",
    "    u,g = l.strip().split(',')\n",
    "    alpha, beta_u, beta_i = iterate(5.0)\n",
    "    beta_u_avg = sum(beta_u[u] for u in beta_u) / len(beta_u)\n",
    "    beta_i_avg = sum(beta_i[i] for i in beta_i) / len(beta_i)\n",
    "\n",
    "    beta_u_val = beta_u.get(u, beta_u_avg)\n",
    "    beta_i_val = beta_i.get(i, beta_i_avg)\n",
    "\n",
    "\n",
    "    _ = predictions.write(u + ',' + g + ',' + str(alpha + beta_u_val + beta_i_val) + '\\n')\n",
    "\n",
    "predictions.close()"
   ]
  },
  {
   "cell_type": "code",
   "execution_count": 460,
   "id": "c5fe92e3-3ab1-4858-858c-eeb732d964f6",
   "metadata": {},
   "outputs": [],
   "source": [
    "f = open(\"answers_hw3.txt\", 'w')\n",
    "f.write(str(answers) + '\\n')\n",
    "f.close()"
   ]
  },
  {
   "cell_type": "code",
   "execution_count": null,
   "id": "9676dc3e",
   "metadata": {},
   "outputs": [],
   "source": [
    "best_lambda"
   ]
  },
  {
   "cell_type": "code",
   "execution_count": null,
   "id": "117b3f37",
   "metadata": {},
   "outputs": [],
   "source": []
  }
 ],
 "metadata": {
  "kernelspec": {
   "display_name": "Python 3 (ipykernel)",
   "language": "python",
   "name": "python3"
  },
  "language_info": {
   "codemirror_mode": {
    "name": "ipython",
    "version": 3
   },
   "file_extension": ".py",
   "mimetype": "text/x-python",
   "name": "python",
   "nbconvert_exporter": "python",
   "pygments_lexer": "ipython3",
   "version": "3.9.13"
  }
 },
 "nbformat": 4,
 "nbformat_minor": 5
}
